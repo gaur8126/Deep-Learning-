{
 "cells": [
  {
   "cell_type": "markdown",
   "id": "493b8b03-29e4-4ae7-a869-d536440fd059",
   "metadata": {},
   "source": [
    "# Q.1"
   ]
  },
  {
   "cell_type": "code",
   "execution_count": 1,
   "id": "cd628da0-3c53-4dc2-8aa2-43a67afda6d1",
   "metadata": {},
   "outputs": [
    {
     "name": "stdout",
     "output_type": "stream",
     "text": [
      "Collecting tensorflow\n",
      "  Downloading tensorflow-2.17.0-cp310-cp310-manylinux_2_17_x86_64.manylinux2014_x86_64.whl (601.3 MB)\n",
      "\u001b[2K     \u001b[90m━━━━━━━━━━━━━━━━━━━━━━━━━━━━━━━━━━━━━━━\u001b[0m \u001b[32m601.3/601.3 MB\u001b[0m \u001b[31m2.7 MB/s\u001b[0m eta \u001b[36m0:00:00\u001b[0m00:01\u001b[0m00:01\u001b[0m\n",
      "\u001b[?25hCollecting ml-dtypes<0.5.0,>=0.3.1\n",
      "  Downloading ml_dtypes-0.4.0-cp310-cp310-manylinux_2_17_x86_64.manylinux2014_x86_64.whl (2.2 MB)\n",
      "\u001b[2K     \u001b[90m━━━━━━━━━━━━━━━━━━━━━━━━━━━━━━━━━━━━━━━━\u001b[0m \u001b[32m2.2/2.2 MB\u001b[0m \u001b[31m56.8 MB/s\u001b[0m eta \u001b[36m0:00:00\u001b[0m00:01\u001b[0m\n",
      "\u001b[?25hCollecting opt-einsum>=2.3.2\n",
      "  Downloading opt_einsum-3.3.0-py3-none-any.whl (65 kB)\n",
      "\u001b[2K     \u001b[90m━━━━━━━━━━━━━━━━━━━━━━━━━━━━━━━━━━━━━━━━\u001b[0m \u001b[32m65.5/65.5 kB\u001b[0m \u001b[31m11.8 MB/s\u001b[0m eta \u001b[36m0:00:00\u001b[0m\n",
      "\u001b[?25hCollecting flatbuffers>=24.3.25\n",
      "  Downloading flatbuffers-24.3.25-py2.py3-none-any.whl (26 kB)\n",
      "Collecting tensorflow-io-gcs-filesystem>=0.23.1\n",
      "  Downloading tensorflow_io_gcs_filesystem-0.37.1-cp310-cp310-manylinux_2_17_x86_64.manylinux2014_x86_64.whl (5.1 MB)\n",
      "\u001b[2K     \u001b[90m━━━━━━━━━━━━━━━━━━━━━━━━━━━━━━━━━━━━━━━━\u001b[0m \u001b[32m5.1/5.1 MB\u001b[0m \u001b[31m58.7 MB/s\u001b[0m eta \u001b[36m0:00:00\u001b[0m00:01\u001b[0m00:01\u001b[0m\n",
      "\u001b[?25hCollecting termcolor>=1.1.0\n",
      "  Downloading termcolor-2.4.0-py3-none-any.whl (7.7 kB)\n",
      "Requirement already satisfied: requests<3,>=2.21.0 in /opt/conda/lib/python3.10/site-packages (from tensorflow) (2.28.1)\n",
      "Requirement already satisfied: setuptools in /opt/conda/lib/python3.10/site-packages (from tensorflow) (65.5.1)\n",
      "Requirement already satisfied: numpy<2.0.0,>=1.23.5 in /opt/conda/lib/python3.10/site-packages (from tensorflow) (1.23.5)\n",
      "Requirement already satisfied: six>=1.12.0 in /opt/conda/lib/python3.10/site-packages (from tensorflow) (1.16.0)\n",
      "Requirement already satisfied: packaging in /opt/conda/lib/python3.10/site-packages (from tensorflow) (22.0)\n",
      "Collecting gast!=0.5.0,!=0.5.1,!=0.5.2,>=0.2.1\n",
      "  Downloading gast-0.6.0-py3-none-any.whl (21 kB)\n",
      "Collecting h5py>=3.10.0\n",
      "  Downloading h5py-3.11.0-cp310-cp310-manylinux_2_17_x86_64.manylinux2014_x86_64.whl (5.3 MB)\n",
      "\u001b[2K     \u001b[90m━━━━━━━━━━━━━━━━━━━━━━━━━━━━━━━━━━━━━━━━\u001b[0m \u001b[32m5.3/5.3 MB\u001b[0m \u001b[31m61.6 MB/s\u001b[0m eta \u001b[36m0:00:00\u001b[0m00:01\u001b[0m:00:01\u001b[0m\n",
      "\u001b[?25hCollecting wrapt>=1.11.0\n",
      "  Downloading wrapt-1.16.0-cp310-cp310-manylinux_2_5_x86_64.manylinux1_x86_64.manylinux_2_17_x86_64.manylinux2014_x86_64.whl (80 kB)\n",
      "\u001b[2K     \u001b[90m━━━━━━━━━━━━━━━━━━━━━━━━━━━━━━━━━━━━━━━━\u001b[0m \u001b[32m80.3/80.3 kB\u001b[0m \u001b[31m13.3 MB/s\u001b[0m eta \u001b[36m0:00:00\u001b[0m\n",
      "\u001b[?25hCollecting google-pasta>=0.1.1\n",
      "  Downloading google_pasta-0.2.0-py3-none-any.whl (57 kB)\n",
      "\u001b[2K     \u001b[90m━━━━━━━━━━━━━━━━━━━━━━━━━━━━━━━━━━━━━━━━\u001b[0m \u001b[32m57.5/57.5 kB\u001b[0m \u001b[31m9.5 MB/s\u001b[0m eta \u001b[36m0:00:00\u001b[0m\n",
      "\u001b[?25hCollecting grpcio<2.0,>=1.24.3\n",
      "  Downloading grpcio-1.65.4-cp310-cp310-manylinux_2_17_x86_64.manylinux2014_x86_64.whl (5.7 MB)\n",
      "\u001b[2K     \u001b[90m━━━━━━━━━━━━━━━━━━━━━━━━━━━━━━━━━━━━━━━━\u001b[0m \u001b[32m5.7/5.7 MB\u001b[0m \u001b[31m59.8 MB/s\u001b[0m eta \u001b[36m0:00:00\u001b[0m00:01\u001b[0m00:01\u001b[0m\n",
      "\u001b[?25hCollecting keras>=3.2.0\n",
      "  Downloading keras-3.4.1-py3-none-any.whl (1.1 MB)\n",
      "\u001b[2K     \u001b[90m━━━━━━━━━━━━━━━━━━━━━━━━━━━━━━━━━━━━━━━━\u001b[0m \u001b[32m1.1/1.1 MB\u001b[0m \u001b[31m54.0 MB/s\u001b[0m eta \u001b[36m0:00:00\u001b[0m\n",
      "\u001b[?25hCollecting libclang>=13.0.0\n",
      "  Downloading libclang-18.1.1-py2.py3-none-manylinux2010_x86_64.whl (24.5 MB)\n",
      "\u001b[2K     \u001b[90m━━━━━━━━━━━━━━━━━━━━━━━━━━━━━━━━━━━━━━━━\u001b[0m \u001b[32m24.5/24.5 MB\u001b[0m \u001b[31m43.2 MB/s\u001b[0m eta \u001b[36m0:00:00\u001b[0m00:01\u001b[0m00:01\u001b[0m\n",
      "\u001b[?25hRequirement already satisfied: typing-extensions>=3.6.6 in /opt/conda/lib/python3.10/site-packages (from tensorflow) (4.4.0)\n",
      "Requirement already satisfied: protobuf!=4.21.0,!=4.21.1,!=4.21.2,!=4.21.3,!=4.21.4,!=4.21.5,<5.0.0dev,>=3.20.3 in /opt/conda/lib/python3.10/site-packages (from tensorflow) (4.21.11)\n",
      "Collecting tensorboard<2.18,>=2.17\n",
      "  Downloading tensorboard-2.17.0-py3-none-any.whl (5.5 MB)\n",
      "\u001b[2K     \u001b[90m━━━━━━━━━━━━━━━━━━━━━━━━━━━━━━━━━━━━━━━━\u001b[0m \u001b[32m5.5/5.5 MB\u001b[0m \u001b[31m64.5 MB/s\u001b[0m eta \u001b[36m0:00:00\u001b[0m00:01\u001b[0m:00:01\u001b[0m\n",
      "\u001b[?25hCollecting absl-py>=1.0.0\n",
      "  Downloading absl_py-2.1.0-py3-none-any.whl (133 kB)\n",
      "\u001b[2K     \u001b[90m━━━━━━━━━━━━━━━━━━━━━━━━━━━━━━━━━━━━━━\u001b[0m \u001b[32m133.7/133.7 kB\u001b[0m \u001b[31m23.2 MB/s\u001b[0m eta \u001b[36m0:00:00\u001b[0m\n",
      "\u001b[?25hCollecting astunparse>=1.6.0\n",
      "  Downloading astunparse-1.6.3-py2.py3-none-any.whl (12 kB)\n",
      "Requirement already satisfied: wheel<1.0,>=0.23.0 in /opt/conda/lib/python3.10/site-packages (from astunparse>=1.6.0->tensorflow) (0.38.4)\n",
      "Collecting namex\n",
      "  Downloading namex-0.0.8-py3-none-any.whl (5.8 kB)\n",
      "Collecting rich\n",
      "  Downloading rich-13.7.1-py3-none-any.whl (240 kB)\n",
      "\u001b[2K     \u001b[90m━━━━━━━━━━━━━━━━━━━━━━━━━━━━━━━━━━━━━━\u001b[0m \u001b[32m240.7/240.7 kB\u001b[0m \u001b[31m26.9 MB/s\u001b[0m eta \u001b[36m0:00:00\u001b[0m\n",
      "\u001b[?25hCollecting optree\n",
      "  Downloading optree-0.12.1-cp310-cp310-manylinux_2_17_x86_64.manylinux2014_x86_64.whl (347 kB)\n",
      "\u001b[2K     \u001b[90m━━━━━━━━━━━━━━━━━━━━━━━━━━━━━━━━━━━━━━\u001b[0m \u001b[32m347.7/347.7 kB\u001b[0m \u001b[31m34.5 MB/s\u001b[0m eta \u001b[36m0:00:00\u001b[0m\n",
      "\u001b[?25hRequirement already satisfied: urllib3<1.27,>=1.21.1 in /opt/conda/lib/python3.10/site-packages (from requests<3,>=2.21.0->tensorflow) (1.26.13)\n",
      "Requirement already satisfied: certifi>=2017.4.17 in /opt/conda/lib/python3.10/site-packages (from requests<3,>=2.21.0->tensorflow) (2022.12.7)\n",
      "Requirement already satisfied: charset-normalizer<3,>=2 in /opt/conda/lib/python3.10/site-packages (from requests<3,>=2.21.0->tensorflow) (2.1.1)\n",
      "Requirement already satisfied: idna<4,>=2.5 in /opt/conda/lib/python3.10/site-packages (from requests<3,>=2.21.0->tensorflow) (3.4)\n",
      "Collecting tensorboard-data-server<0.8.0,>=0.7.0\n",
      "  Downloading tensorboard_data_server-0.7.2-py3-none-manylinux_2_31_x86_64.whl (6.6 MB)\n",
      "\u001b[2K     \u001b[90m━━━━━━━━━━━━━━━━━━━━━━━━━━━━━━━━━━━━━━━━\u001b[0m \u001b[32m6.6/6.6 MB\u001b[0m \u001b[31m68.7 MB/s\u001b[0m eta \u001b[36m0:00:00\u001b[0m00:01\u001b[0m00:01\u001b[0m\n",
      "\u001b[?25hCollecting markdown>=2.6.8\n",
      "  Downloading Markdown-3.6-py3-none-any.whl (105 kB)\n",
      "\u001b[2K     \u001b[90m━━━━━━━━━━━━━━━━━━━━━━━━━━━━━━━━━━━━━━\u001b[0m \u001b[32m105.4/105.4 kB\u001b[0m \u001b[31m18.9 MB/s\u001b[0m eta \u001b[36m0:00:00\u001b[0m\n",
      "\u001b[?25hCollecting werkzeug>=1.0.1\n",
      "  Downloading werkzeug-3.0.3-py3-none-any.whl (227 kB)\n",
      "\u001b[2K     \u001b[90m━━━━━━━━━━━━━━━━━━━━━━━━━━━━━━━━━━━━━━\u001b[0m \u001b[32m227.3/227.3 kB\u001b[0m \u001b[31m30.5 MB/s\u001b[0m eta \u001b[36m0:00:00\u001b[0m\n",
      "\u001b[?25hRequirement already satisfied: MarkupSafe>=2.1.1 in /opt/conda/lib/python3.10/site-packages (from werkzeug>=1.0.1->tensorboard<2.18,>=2.17->tensorflow) (2.1.1)\n",
      "Collecting typing-extensions>=3.6.6\n",
      "  Downloading typing_extensions-4.12.2-py3-none-any.whl (37 kB)\n",
      "Requirement already satisfied: pygments<3.0.0,>=2.13.0 in /opt/conda/lib/python3.10/site-packages (from rich->keras>=3.2.0->tensorflow) (2.13.0)\n",
      "Collecting markdown-it-py>=2.2.0\n",
      "  Downloading markdown_it_py-3.0.0-py3-none-any.whl (87 kB)\n",
      "\u001b[2K     \u001b[90m━━━━━━━━━━━━━━━━━━━━━━━━━━━━━━━━━━━━━━━━\u001b[0m \u001b[32m87.5/87.5 kB\u001b[0m \u001b[31m15.3 MB/s\u001b[0m eta \u001b[36m0:00:00\u001b[0m\n",
      "\u001b[?25hCollecting mdurl~=0.1\n",
      "  Downloading mdurl-0.1.2-py3-none-any.whl (10.0 kB)\n",
      "Installing collected packages: namex, libclang, flatbuffers, wrapt, werkzeug, typing-extensions, termcolor, tensorflow-io-gcs-filesystem, tensorboard-data-server, opt-einsum, ml-dtypes, mdurl, markdown, h5py, grpcio, google-pasta, gast, astunparse, absl-py, tensorboard, optree, markdown-it-py, rich, keras, tensorflow\n",
      "  Attempting uninstall: typing-extensions\n",
      "    Found existing installation: typing_extensions 4.4.0\n",
      "    Uninstalling typing_extensions-4.4.0:\n",
      "      Successfully uninstalled typing_extensions-4.4.0\n",
      "  Attempting uninstall: h5py\n",
      "    Found existing installation: h5py 3.7.0\n",
      "    Uninstalling h5py-3.7.0:\n",
      "      Successfully uninstalled h5py-3.7.0\n",
      "Successfully installed absl-py-2.1.0 astunparse-1.6.3 flatbuffers-24.3.25 gast-0.6.0 google-pasta-0.2.0 grpcio-1.65.4 h5py-3.11.0 keras-3.4.1 libclang-18.1.1 markdown-3.6 markdown-it-py-3.0.0 mdurl-0.1.2 ml-dtypes-0.4.0 namex-0.0.8 opt-einsum-3.3.0 optree-0.12.1 rich-13.7.1 tensorboard-2.17.0 tensorboard-data-server-0.7.2 tensorflow-2.17.0 tensorflow-io-gcs-filesystem-0.37.1 termcolor-2.4.0 typing-extensions-4.12.2 werkzeug-3.0.3 wrapt-1.16.0\n",
      "Requirement already satisfied: keras in /opt/conda/lib/python3.10/site-packages (3.4.1)\n",
      "Requirement already satisfied: absl-py in /opt/conda/lib/python3.10/site-packages (from keras) (2.1.0)\n",
      "Requirement already satisfied: numpy in /opt/conda/lib/python3.10/site-packages (from keras) (1.23.5)\n",
      "Requirement already satisfied: namex in /opt/conda/lib/python3.10/site-packages (from keras) (0.0.8)\n",
      "Requirement already satisfied: optree in /opt/conda/lib/python3.10/site-packages (from keras) (0.12.1)\n",
      "Requirement already satisfied: ml-dtypes in /opt/conda/lib/python3.10/site-packages (from keras) (0.4.0)\n",
      "Requirement already satisfied: packaging in /opt/conda/lib/python3.10/site-packages (from keras) (22.0)\n",
      "Requirement already satisfied: rich in /opt/conda/lib/python3.10/site-packages (from keras) (13.7.1)\n",
      "Requirement already satisfied: h5py in /opt/conda/lib/python3.10/site-packages (from keras) (3.11.0)\n",
      "Requirement already satisfied: typing-extensions>=4.5.0 in /opt/conda/lib/python3.10/site-packages (from optree->keras) (4.12.2)\n",
      "Requirement already satisfied: pygments<3.0.0,>=2.13.0 in /opt/conda/lib/python3.10/site-packages (from rich->keras) (2.13.0)\n",
      "Requirement already satisfied: markdown-it-py>=2.2.0 in /opt/conda/lib/python3.10/site-packages (from rich->keras) (3.0.0)\n",
      "Requirement already satisfied: mdurl~=0.1 in /opt/conda/lib/python3.10/site-packages (from markdown-it-py>=2.2.0->rich->keras) (0.1.2)\n"
     ]
    }
   ],
   "source": [
    "!pip install tensorflow \n",
    "!pip install keras "
   ]
  },
  {
   "cell_type": "code",
   "execution_count": 2,
   "id": "6db9e15b-281e-46df-bb16-11fda3a40e17",
   "metadata": {},
   "outputs": [
    {
     "name": "stderr",
     "output_type": "stream",
     "text": [
      "2024-08-08 14:59:07.789750: I external/local_xla/xla/tsl/cuda/cudart_stub.cc:32] Could not find cuda drivers on your machine, GPU will not be used.\n",
      "2024-08-08 14:59:07.796256: I external/local_xla/xla/tsl/cuda/cudart_stub.cc:32] Could not find cuda drivers on your machine, GPU will not be used.\n",
      "2024-08-08 14:59:07.816880: E external/local_xla/xla/stream_executor/cuda/cuda_fft.cc:485] Unable to register cuFFT factory: Attempting to register factory for plugin cuFFT when one has already been registered\n",
      "2024-08-08 14:59:07.850502: E external/local_xla/xla/stream_executor/cuda/cuda_dnn.cc:8454] Unable to register cuDNN factory: Attempting to register factory for plugin cuDNN when one has already been registered\n",
      "2024-08-08 14:59:07.860125: E external/local_xla/xla/stream_executor/cuda/cuda_blas.cc:1452] Unable to register cuBLAS factory: Attempting to register factory for plugin cuBLAS when one has already been registered\n",
      "2024-08-08 14:59:07.884122: I tensorflow/core/platform/cpu_feature_guard.cc:210] This TensorFlow binary is optimized to use available CPU instructions in performance-critical operations.\n",
      "To enable the following instructions: AVX2 FMA, in other operations, rebuild TensorFlow with the appropriate compiler flags.\n",
      "2024-08-08 14:59:09.493719: W tensorflow/compiler/tf2tensorrt/utils/py_utils.cc:38] TF-TRT Warning: Could not find TensorRT\n"
     ]
    },
    {
     "name": "stdout",
     "output_type": "stream",
     "text": [
      "version of tensorflow : 2.17.0\n",
      "version of keras: 3.4.1\n"
     ]
    }
   ],
   "source": [
    "import tensorflow as tf \n",
    "import keras \n",
    "\n",
    "print(f'version of tensorflow : {tf.__version__}')\n",
    "print(f'version of keras: {keras.__version__}')"
   ]
  },
  {
   "cell_type": "markdown",
   "id": "3de1c877-fe02-49d4-a7be-f094939c7bd9",
   "metadata": {},
   "source": [
    "# Q.2 "
   ]
  },
  {
   "cell_type": "code",
   "execution_count": 3,
   "id": "0e1bb05e-1b14-4ae3-ab5d-6ed093a26554",
   "metadata": {},
   "outputs": [
    {
     "data": {
      "text/html": [
       "<div>\n",
       "<style scoped>\n",
       "    .dataframe tbody tr th:only-of-type {\n",
       "        vertical-align: middle;\n",
       "    }\n",
       "\n",
       "    .dataframe tbody tr th {\n",
       "        vertical-align: top;\n",
       "    }\n",
       "\n",
       "    .dataframe thead th {\n",
       "        text-align: right;\n",
       "    }\n",
       "</style>\n",
       "<table border=\"1\" class=\"dataframe\">\n",
       "  <thead>\n",
       "    <tr style=\"text-align: right;\">\n",
       "      <th></th>\n",
       "      <th>fixed acidity</th>\n",
       "      <th>volatile acidity</th>\n",
       "      <th>citric acid</th>\n",
       "      <th>residual sugar</th>\n",
       "      <th>chlorides</th>\n",
       "      <th>free sulfur dioxide</th>\n",
       "      <th>total sulfur dioxide</th>\n",
       "      <th>density</th>\n",
       "      <th>pH</th>\n",
       "      <th>sulphates</th>\n",
       "      <th>alcohol</th>\n",
       "      <th>quality</th>\n",
       "    </tr>\n",
       "  </thead>\n",
       "  <tbody>\n",
       "    <tr>\n",
       "      <th>0</th>\n",
       "      <td>7.4</td>\n",
       "      <td>0.70</td>\n",
       "      <td>0.00</td>\n",
       "      <td>1.9</td>\n",
       "      <td>0.076</td>\n",
       "      <td>11.0</td>\n",
       "      <td>34.0</td>\n",
       "      <td>0.9978</td>\n",
       "      <td>3.51</td>\n",
       "      <td>0.56</td>\n",
       "      <td>9.4</td>\n",
       "      <td>bad</td>\n",
       "    </tr>\n",
       "    <tr>\n",
       "      <th>1</th>\n",
       "      <td>7.8</td>\n",
       "      <td>0.88</td>\n",
       "      <td>0.00</td>\n",
       "      <td>2.6</td>\n",
       "      <td>0.098</td>\n",
       "      <td>25.0</td>\n",
       "      <td>67.0</td>\n",
       "      <td>0.9968</td>\n",
       "      <td>3.20</td>\n",
       "      <td>0.68</td>\n",
       "      <td>9.8</td>\n",
       "      <td>bad</td>\n",
       "    </tr>\n",
       "    <tr>\n",
       "      <th>2</th>\n",
       "      <td>7.8</td>\n",
       "      <td>0.76</td>\n",
       "      <td>0.04</td>\n",
       "      <td>2.3</td>\n",
       "      <td>0.092</td>\n",
       "      <td>15.0</td>\n",
       "      <td>54.0</td>\n",
       "      <td>0.9970</td>\n",
       "      <td>3.26</td>\n",
       "      <td>0.65</td>\n",
       "      <td>9.8</td>\n",
       "      <td>bad</td>\n",
       "    </tr>\n",
       "    <tr>\n",
       "      <th>3</th>\n",
       "      <td>11.2</td>\n",
       "      <td>0.28</td>\n",
       "      <td>0.56</td>\n",
       "      <td>1.9</td>\n",
       "      <td>0.075</td>\n",
       "      <td>17.0</td>\n",
       "      <td>60.0</td>\n",
       "      <td>0.9980</td>\n",
       "      <td>3.16</td>\n",
       "      <td>0.58</td>\n",
       "      <td>9.8</td>\n",
       "      <td>good</td>\n",
       "    </tr>\n",
       "    <tr>\n",
       "      <th>4</th>\n",
       "      <td>7.4</td>\n",
       "      <td>0.70</td>\n",
       "      <td>0.00</td>\n",
       "      <td>1.9</td>\n",
       "      <td>0.076</td>\n",
       "      <td>11.0</td>\n",
       "      <td>34.0</td>\n",
       "      <td>0.9978</td>\n",
       "      <td>3.51</td>\n",
       "      <td>0.56</td>\n",
       "      <td>9.4</td>\n",
       "      <td>bad</td>\n",
       "    </tr>\n",
       "  </tbody>\n",
       "</table>\n",
       "</div>"
      ],
      "text/plain": [
       "   fixed acidity  volatile acidity  citric acid  residual sugar  chlorides  \\\n",
       "0            7.4              0.70         0.00             1.9      0.076   \n",
       "1            7.8              0.88         0.00             2.6      0.098   \n",
       "2            7.8              0.76         0.04             2.3      0.092   \n",
       "3           11.2              0.28         0.56             1.9      0.075   \n",
       "4            7.4              0.70         0.00             1.9      0.076   \n",
       "\n",
       "   free sulfur dioxide  total sulfur dioxide  density    pH  sulphates  \\\n",
       "0                 11.0                  34.0   0.9978  3.51       0.56   \n",
       "1                 25.0                  67.0   0.9968  3.20       0.68   \n",
       "2                 15.0                  54.0   0.9970  3.26       0.65   \n",
       "3                 17.0                  60.0   0.9980  3.16       0.58   \n",
       "4                 11.0                  34.0   0.9978  3.51       0.56   \n",
       "\n",
       "   alcohol quality  \n",
       "0      9.4     bad  \n",
       "1      9.8     bad  \n",
       "2      9.8     bad  \n",
       "3      9.8    good  \n",
       "4      9.4     bad  "
      ]
     },
     "execution_count": 3,
     "metadata": {},
     "output_type": "execute_result"
    }
   ],
   "source": [
    "import pandas as pd \n",
    "df = pd.read_csv('wine.csv')\n",
    "df.head()"
   ]
  },
  {
   "cell_type": "markdown",
   "id": "4ea191b7-326c-4ff8-bf49-0a2a68c3a56c",
   "metadata": {},
   "source": [
    "# Q.3 "
   ]
  },
  {
   "cell_type": "code",
   "execution_count": 4,
   "id": "99c745cd-ce77-4f04-8b46-5c8ec4f3ed65",
   "metadata": {},
   "outputs": [
    {
     "data": {
      "text/plain": [
       "fixed acidity           0\n",
       "volatile acidity        0\n",
       "citric acid             0\n",
       "residual sugar          0\n",
       "chlorides               0\n",
       "free sulfur dioxide     0\n",
       "total sulfur dioxide    0\n",
       "density                 0\n",
       "pH                      0\n",
       "sulphates               0\n",
       "alcohol                 0\n",
       "quality                 0\n",
       "dtype: int64"
      ]
     },
     "execution_count": 4,
     "metadata": {},
     "output_type": "execute_result"
    }
   ],
   "source": [
    "df.isnull().sum()"
   ]
  },
  {
   "cell_type": "code",
   "execution_count": 5,
   "id": "d34b4ddf-6399-4b3a-93db-9de4e512fdcb",
   "metadata": {},
   "outputs": [
    {
     "name": "stdout",
     "output_type": "stream",
     "text": [
      "<class 'pandas.core.frame.DataFrame'>\n",
      "RangeIndex: 1599 entries, 0 to 1598\n",
      "Data columns (total 12 columns):\n",
      " #   Column                Non-Null Count  Dtype  \n",
      "---  ------                --------------  -----  \n",
      " 0   fixed acidity         1599 non-null   float64\n",
      " 1   volatile acidity      1599 non-null   float64\n",
      " 2   citric acid           1599 non-null   float64\n",
      " 3   residual sugar        1599 non-null   float64\n",
      " 4   chlorides             1599 non-null   float64\n",
      " 5   free sulfur dioxide   1599 non-null   float64\n",
      " 6   total sulfur dioxide  1599 non-null   float64\n",
      " 7   density               1599 non-null   float64\n",
      " 8   pH                    1599 non-null   float64\n",
      " 9   sulphates             1599 non-null   float64\n",
      " 10  alcohol               1599 non-null   float64\n",
      " 11  quality               1599 non-null   object \n",
      "dtypes: float64(11), object(1)\n",
      "memory usage: 150.0+ KB\n"
     ]
    }
   ],
   "source": [
    "df.info()"
   ]
  },
  {
   "cell_type": "code",
   "execution_count": 6,
   "id": "4ab99341-c4b8-407a-ba16-d7ccc72ffbba",
   "metadata": {},
   "outputs": [],
   "source": [
    "map_y = {'bad':0,'good':1}"
   ]
  },
  {
   "cell_type": "markdown",
   "id": "333cc9e5-ebcd-4474-9b51-f4f3a38660cd",
   "metadata": {},
   "source": [
    "# Q.4"
   ]
  },
  {
   "cell_type": "code",
   "execution_count": 10,
   "id": "a5337e3d-e782-47af-bb75-dfc62b1bec24",
   "metadata": {},
   "outputs": [],
   "source": [
    "X = df.drop('quality',axis=1)\n",
    "y = df['quality']\n",
    "y = y.map(map_y)\n"
   ]
  },
  {
   "cell_type": "markdown",
   "id": "b2e57f37-47b5-422a-bb28-2698c6e1faf7",
   "metadata": {},
   "source": [
    "# Q.5"
   ]
  },
  {
   "cell_type": "code",
   "execution_count": 11,
   "id": "53811241-8e2a-4a44-a11a-7e598eb3bacb",
   "metadata": {},
   "outputs": [],
   "source": [
    "from sklearn.model_selection import train_test_split\n",
    "x_train,x_temp,y_train,y_temp = train_test_split(X,y,test_size=.3,random_state=42)\n",
    "x_val,x_test,y_val,y_test = train_test_split(x_temp,y_temp,test_size=.5,random_state=42)"
   ]
  },
  {
   "cell_type": "markdown",
   "id": "adce93dd-b6e1-4249-9e26-b9a84bec0f93",
   "metadata": {},
   "source": [
    "# Q.6"
   ]
  },
  {
   "cell_type": "code",
   "execution_count": 12,
   "id": "a79b2b04-4127-4c43-be58-00a3b0bffa2d",
   "metadata": {},
   "outputs": [],
   "source": [
    "from sklearn.preprocessing import StandardScaler\n",
    "scaler = StandardScaler()\n",
    "x_train_scaled = scaler.fit_transform(x_train)\n",
    "x_val_scaled = scaler.transform(x_val)\n",
    "x_test_scaled = scaler.transform(x_test)"
   ]
  },
  {
   "cell_type": "markdown",
   "id": "76baf107-eb2f-4fbf-a86a-f6eadb800a7f",
   "metadata": {},
   "source": [
    "# Q.7"
   ]
  },
  {
   "cell_type": "code",
   "execution_count": 41,
   "id": "115303d0-5fe9-4d8b-8098-c6701a368c5b",
   "metadata": {},
   "outputs": [],
   "source": [
    "from tensorflow.keras.models import Sequential\n",
    "from tensorflow.keras.layers import Dense\n",
    "\n",
    "model = Sequential([\n",
    "    Dense(64,activation='relu',input_shape=(x_train.shape[1],)),\n",
    "    Dense(32,activation='relu'),\n",
    "    Dense(1,activation='sigmoid')\n",
    "])"
   ]
  },
  {
   "cell_type": "markdown",
   "id": "88d7206b-1525-43a9-9433-95c8b210dd80",
   "metadata": {},
   "source": [
    "# Q.8"
   ]
  },
  {
   "cell_type": "code",
   "execution_count": 42,
   "id": "dd369210-3cb5-4081-bcb5-05d9b662e07d",
   "metadata": {},
   "outputs": [],
   "source": [
    "model.add(Dense(64,activation='relu',input_shape=(x_train.shape[1],))),\n",
    "model.add(Dense(32,activation='relu')),\n",
    "model.add(Dense(1,activation='sigmoid'))"
   ]
  },
  {
   "cell_type": "markdown",
   "id": "7495c8ba-85ba-414b-aa8b-5daed8655366",
   "metadata": {},
   "source": [
    "# Q.9"
   ]
  },
  {
   "cell_type": "code",
   "execution_count": 43,
   "id": "cc109359-2d7f-41ef-9308-0fd55bd100dc",
   "metadata": {},
   "outputs": [
    {
     "data": {
      "text/html": [
       "<pre style=\"white-space:pre;overflow-x:auto;line-height:normal;font-family:Menlo,'DejaVu Sans Mono',consolas,'Courier New',monospace\"><span style=\"font-weight: bold\">Model: \"sequential_2\"</span>\n",
       "</pre>\n"
      ],
      "text/plain": [
       "\u001b[1mModel: \"sequential_2\"\u001b[0m\n"
      ]
     },
     "metadata": {},
     "output_type": "display_data"
    },
    {
     "data": {
      "text/html": [
       "<pre style=\"white-space:pre;overflow-x:auto;line-height:normal;font-family:Menlo,'DejaVu Sans Mono',consolas,'Courier New',monospace\">┏━━━━━━━━━━━━━━━━━━━━━━━━━━━━━━━━━┳━━━━━━━━━━━━━━━━━━━━━━━━┳━━━━━━━━━━━━━━━┓\n",
       "┃<span style=\"font-weight: bold\"> Layer (type)                    </span>┃<span style=\"font-weight: bold\"> Output Shape           </span>┃<span style=\"font-weight: bold\">       Param # </span>┃\n",
       "┡━━━━━━━━━━━━━━━━━━━━━━━━━━━━━━━━━╇━━━━━━━━━━━━━━━━━━━━━━━━╇━━━━━━━━━━━━━━━┩\n",
       "│ dense_18 (<span style=\"color: #0087ff; text-decoration-color: #0087ff\">Dense</span>)                │ (<span style=\"color: #00d7ff; text-decoration-color: #00d7ff\">None</span>, <span style=\"color: #00af00; text-decoration-color: #00af00\">64</span>)             │           <span style=\"color: #00af00; text-decoration-color: #00af00\">768</span> │\n",
       "├─────────────────────────────────┼────────────────────────┼───────────────┤\n",
       "│ dense_19 (<span style=\"color: #0087ff; text-decoration-color: #0087ff\">Dense</span>)                │ (<span style=\"color: #00d7ff; text-decoration-color: #00d7ff\">None</span>, <span style=\"color: #00af00; text-decoration-color: #00af00\">32</span>)             │         <span style=\"color: #00af00; text-decoration-color: #00af00\">2,080</span> │\n",
       "├─────────────────────────────────┼────────────────────────┼───────────────┤\n",
       "│ dense_20 (<span style=\"color: #0087ff; text-decoration-color: #0087ff\">Dense</span>)                │ (<span style=\"color: #00d7ff; text-decoration-color: #00d7ff\">None</span>, <span style=\"color: #00af00; text-decoration-color: #00af00\">1</span>)              │            <span style=\"color: #00af00; text-decoration-color: #00af00\">33</span> │\n",
       "├─────────────────────────────────┼────────────────────────┼───────────────┤\n",
       "│ dense_21 (<span style=\"color: #0087ff; text-decoration-color: #0087ff\">Dense</span>)                │ (<span style=\"color: #00d7ff; text-decoration-color: #00d7ff\">None</span>, <span style=\"color: #00af00; text-decoration-color: #00af00\">64</span>)             │           <span style=\"color: #00af00; text-decoration-color: #00af00\">128</span> │\n",
       "├─────────────────────────────────┼────────────────────────┼───────────────┤\n",
       "│ dense_22 (<span style=\"color: #0087ff; text-decoration-color: #0087ff\">Dense</span>)                │ (<span style=\"color: #00d7ff; text-decoration-color: #00d7ff\">None</span>, <span style=\"color: #00af00; text-decoration-color: #00af00\">32</span>)             │         <span style=\"color: #00af00; text-decoration-color: #00af00\">2,080</span> │\n",
       "├─────────────────────────────────┼────────────────────────┼───────────────┤\n",
       "│ dense_23 (<span style=\"color: #0087ff; text-decoration-color: #0087ff\">Dense</span>)                │ (<span style=\"color: #00d7ff; text-decoration-color: #00d7ff\">None</span>, <span style=\"color: #00af00; text-decoration-color: #00af00\">1</span>)              │            <span style=\"color: #00af00; text-decoration-color: #00af00\">33</span> │\n",
       "└─────────────────────────────────┴────────────────────────┴───────────────┘\n",
       "</pre>\n"
      ],
      "text/plain": [
       "┏━━━━━━━━━━━━━━━━━━━━━━━━━━━━━━━━━┳━━━━━━━━━━━━━━━━━━━━━━━━┳━━━━━━━━━━━━━━━┓\n",
       "┃\u001b[1m \u001b[0m\u001b[1mLayer (type)                   \u001b[0m\u001b[1m \u001b[0m┃\u001b[1m \u001b[0m\u001b[1mOutput Shape          \u001b[0m\u001b[1m \u001b[0m┃\u001b[1m \u001b[0m\u001b[1m      Param #\u001b[0m\u001b[1m \u001b[0m┃\n",
       "┡━━━━━━━━━━━━━━━━━━━━━━━━━━━━━━━━━╇━━━━━━━━━━━━━━━━━━━━━━━━╇━━━━━━━━━━━━━━━┩\n",
       "│ dense_18 (\u001b[38;5;33mDense\u001b[0m)                │ (\u001b[38;5;45mNone\u001b[0m, \u001b[38;5;34m64\u001b[0m)             │           \u001b[38;5;34m768\u001b[0m │\n",
       "├─────────────────────────────────┼────────────────────────┼───────────────┤\n",
       "│ dense_19 (\u001b[38;5;33mDense\u001b[0m)                │ (\u001b[38;5;45mNone\u001b[0m, \u001b[38;5;34m32\u001b[0m)             │         \u001b[38;5;34m2,080\u001b[0m │\n",
       "├─────────────────────────────────┼────────────────────────┼───────────────┤\n",
       "│ dense_20 (\u001b[38;5;33mDense\u001b[0m)                │ (\u001b[38;5;45mNone\u001b[0m, \u001b[38;5;34m1\u001b[0m)              │            \u001b[38;5;34m33\u001b[0m │\n",
       "├─────────────────────────────────┼────────────────────────┼───────────────┤\n",
       "│ dense_21 (\u001b[38;5;33mDense\u001b[0m)                │ (\u001b[38;5;45mNone\u001b[0m, \u001b[38;5;34m64\u001b[0m)             │           \u001b[38;5;34m128\u001b[0m │\n",
       "├─────────────────────────────────┼────────────────────────┼───────────────┤\n",
       "│ dense_22 (\u001b[38;5;33mDense\u001b[0m)                │ (\u001b[38;5;45mNone\u001b[0m, \u001b[38;5;34m32\u001b[0m)             │         \u001b[38;5;34m2,080\u001b[0m │\n",
       "├─────────────────────────────────┼────────────────────────┼───────────────┤\n",
       "│ dense_23 (\u001b[38;5;33mDense\u001b[0m)                │ (\u001b[38;5;45mNone\u001b[0m, \u001b[38;5;34m1\u001b[0m)              │            \u001b[38;5;34m33\u001b[0m │\n",
       "└─────────────────────────────────┴────────────────────────┴───────────────┘\n"
      ]
     },
     "metadata": {},
     "output_type": "display_data"
    },
    {
     "data": {
      "text/html": [
       "<pre style=\"white-space:pre;overflow-x:auto;line-height:normal;font-family:Menlo,'DejaVu Sans Mono',consolas,'Courier New',monospace\"><span style=\"font-weight: bold\"> Total params: </span><span style=\"color: #00af00; text-decoration-color: #00af00\">5,122</span> (20.01 KB)\n",
       "</pre>\n"
      ],
      "text/plain": [
       "\u001b[1m Total params: \u001b[0m\u001b[38;5;34m5,122\u001b[0m (20.01 KB)\n"
      ]
     },
     "metadata": {},
     "output_type": "display_data"
    },
    {
     "data": {
      "text/html": [
       "<pre style=\"white-space:pre;overflow-x:auto;line-height:normal;font-family:Menlo,'DejaVu Sans Mono',consolas,'Courier New',monospace\"><span style=\"font-weight: bold\"> Trainable params: </span><span style=\"color: #00af00; text-decoration-color: #00af00\">5,122</span> (20.01 KB)\n",
       "</pre>\n"
      ],
      "text/plain": [
       "\u001b[1m Trainable params: \u001b[0m\u001b[38;5;34m5,122\u001b[0m (20.01 KB)\n"
      ]
     },
     "metadata": {},
     "output_type": "display_data"
    },
    {
     "data": {
      "text/html": [
       "<pre style=\"white-space:pre;overflow-x:auto;line-height:normal;font-family:Menlo,'DejaVu Sans Mono',consolas,'Courier New',monospace\"><span style=\"font-weight: bold\"> Non-trainable params: </span><span style=\"color: #00af00; text-decoration-color: #00af00\">0</span> (0.00 B)\n",
       "</pre>\n"
      ],
      "text/plain": [
       "\u001b[1m Non-trainable params: \u001b[0m\u001b[38;5;34m0\u001b[0m (0.00 B)\n"
      ]
     },
     "metadata": {},
     "output_type": "display_data"
    }
   ],
   "source": [
    "model.summary()"
   ]
  },
  {
   "cell_type": "markdown",
   "id": "072d46d3-b2ef-4cb1-86ec-604f76dce369",
   "metadata": {},
   "source": [
    "# Q.10"
   ]
  },
  {
   "cell_type": "code",
   "execution_count": 44,
   "id": "fe78e0a2-25ea-4d5d-9658-81f15f24d949",
   "metadata": {},
   "outputs": [],
   "source": [
    "\n",
    "loss = 'binary_crossentropy'\n",
    "optimizer = 'adam'\n",
    "metrics = ['accuracy']"
   ]
  },
  {
   "cell_type": "markdown",
   "id": "5416eb7f-014e-4836-a4ac-5d48b5f77dda",
   "metadata": {},
   "source": [
    "# Q.11"
   ]
  },
  {
   "cell_type": "code",
   "execution_count": 45,
   "id": "4c028f2d-cfea-49af-a997-612343e8de4e",
   "metadata": {},
   "outputs": [],
   "source": [
    "model.compile(\n",
    "    loss = loss,\n",
    "    optimizer = optimizer,\n",
    "    metrics = metrics,\n",
    ")"
   ]
  },
  {
   "cell_type": "markdown",
   "id": "739b4c66-cd03-4ec3-8074-9bfed23e5559",
   "metadata": {},
   "source": [
    "# Q.12"
   ]
  },
  {
   "cell_type": "code",
   "execution_count": 46,
   "id": "64d126c0-aa6e-4b4e-a3b4-b9ff7a0d6397",
   "metadata": {},
   "outputs": [
    {
     "name": "stdout",
     "output_type": "stream",
     "text": [
      "Epoch 1/10\n",
      "\u001b[1m35/35\u001b[0m \u001b[32m━━━━━━━━━━━━━━━━━━━━\u001b[0m\u001b[37m\u001b[0m \u001b[1m2s\u001b[0m 11ms/step - accuracy: 0.5056 - loss: 0.6943 - val_accuracy: 0.5708 - val_loss: 0.6884\n",
      "Epoch 2/10\n",
      "\u001b[1m35/35\u001b[0m \u001b[32m━━━━━━━━━━━━━━━━━━━━\u001b[0m\u001b[37m\u001b[0m \u001b[1m0s\u001b[0m 4ms/step - accuracy: 0.5499 - loss: 0.6900 - val_accuracy: 0.6542 - val_loss: 0.6806\n",
      "Epoch 3/10\n",
      "\u001b[1m35/35\u001b[0m \u001b[32m━━━━━━━━━━━━━━━━━━━━\u001b[0m\u001b[37m\u001b[0m \u001b[1m0s\u001b[0m 4ms/step - accuracy: 0.7258 - loss: 0.6607 - val_accuracy: 0.6667 - val_loss: 0.6472\n",
      "Epoch 4/10\n",
      "\u001b[1m35/35\u001b[0m \u001b[32m━━━━━━━━━━━━━━━━━━━━\u001b[0m\u001b[37m\u001b[0m \u001b[1m0s\u001b[0m 3ms/step - accuracy: 0.7587 - loss: 0.5969 - val_accuracy: 0.7083 - val_loss: 0.6068\n",
      "Epoch 5/10\n",
      "\u001b[1m35/35\u001b[0m \u001b[32m━━━━━━━━━━━━━━━━━━━━\u001b[0m\u001b[37m\u001b[0m \u001b[1m0s\u001b[0m 3ms/step - accuracy: 0.7537 - loss: 0.5524 - val_accuracy: 0.6958 - val_loss: 0.5988\n",
      "Epoch 6/10\n",
      "\u001b[1m35/35\u001b[0m \u001b[32m━━━━━━━━━━━━━━━━━━━━\u001b[0m\u001b[37m\u001b[0m \u001b[1m0s\u001b[0m 3ms/step - accuracy: 0.7613 - loss: 0.5229 - val_accuracy: 0.7167 - val_loss: 0.5866\n",
      "Epoch 7/10\n",
      "\u001b[1m35/35\u001b[0m \u001b[32m━━━━━━━━━━━━━━━━━━━━\u001b[0m\u001b[37m\u001b[0m \u001b[1m0s\u001b[0m 3ms/step - accuracy: 0.7633 - loss: 0.4936 - val_accuracy: 0.6875 - val_loss: 0.6139\n",
      "Epoch 8/10\n",
      "\u001b[1m35/35\u001b[0m \u001b[32m━━━━━━━━━━━━━━━━━━━━\u001b[0m\u001b[37m\u001b[0m \u001b[1m0s\u001b[0m 3ms/step - accuracy: 0.7845 - loss: 0.4840 - val_accuracy: 0.7083 - val_loss: 0.5799\n",
      "Epoch 9/10\n",
      "\u001b[1m35/35\u001b[0m \u001b[32m━━━━━━━━━━━━━━━━━━━━\u001b[0m\u001b[37m\u001b[0m \u001b[1m0s\u001b[0m 3ms/step - accuracy: 0.8105 - loss: 0.4563 - val_accuracy: 0.6958 - val_loss: 0.5826\n",
      "Epoch 10/10\n",
      "\u001b[1m35/35\u001b[0m \u001b[32m━━━━━━━━━━━━━━━━━━━━\u001b[0m\u001b[37m\u001b[0m \u001b[1m0s\u001b[0m 3ms/step - accuracy: 0.7998 - loss: 0.4532 - val_accuracy: 0.7125 - val_loss: 0.5817\n"
     ]
    }
   ],
   "source": [
    "history = model.fit(x_train_scaled,y_train,epochs=10,validation_data = (x_val_scaled,y_val))"
   ]
  },
  {
   "cell_type": "markdown",
   "id": "706b1c1d-6cac-47c5-a542-74a25cf5b887",
   "metadata": {},
   "source": [
    "# Q.13"
   ]
  },
  {
   "cell_type": "code",
   "execution_count": 59,
   "id": "9074b084-2dc9-4493-8d28-6ba802ce2317",
   "metadata": {},
   "outputs": [
    {
     "name": "stdout",
     "output_type": "stream",
     "text": [
      "weights : [[ 2.07117740e-02  3.11189387e-02  4.95111980e-02 -1.22579955e-01\n",
      "   2.04228908e-01 -9.75198969e-02  2.73420483e-01  5.68331219e-02\n",
      "   2.33109310e-01 -1.31761367e-02  5.24940602e-02 -1.59158576e-02\n",
      "   1.96418956e-01 -1.56645969e-01  1.03456877e-01 -3.20157371e-02\n",
      "  -2.59145886e-01  1.34163529e-01  6.40295297e-02 -5.53661175e-02\n",
      "  -5.91945536e-02  5.94043313e-03 -9.90244523e-02 -3.13879852e-03\n",
      "  -5.96648781e-03  1.89976290e-01  1.06973559e-01  1.06268503e-01\n",
      "  -2.91218221e-01  1.73617467e-01  5.55509217e-02 -2.97659934e-01\n",
      "   2.93418795e-01  1.33929446e-01 -2.18442068e-01  8.23311061e-02\n",
      "  -1.28287494e-01  2.76109606e-01  2.75706053e-01  1.14961371e-01\n",
      "   5.25263175e-02  1.88895762e-01  2.92688578e-01  1.59401447e-02\n",
      "   9.57033783e-02 -4.42161374e-02 -2.70524353e-01  2.66413778e-01\n",
      "  -1.80392921e-01  2.30234042e-01  2.28786275e-01  2.21075535e-01\n",
      "  -1.75679773e-01  1.53025985e-01  2.33404875e-01  3.25406194e-01\n",
      "   2.53120601e-01 -4.34350297e-02 -2.32545435e-01  1.63604412e-02\n",
      "   1.88261285e-01 -1.77387476e-01  1.66505486e-01  1.30542204e-01]\n",
      " [-9.10355672e-02  4.53453027e-02  1.67879537e-01  4.78562377e-02\n",
      "  -2.06557825e-01  1.19494066e-01  1.74477845e-02  1.00487150e-01\n",
      "   1.90653130e-02 -1.17244713e-01  2.62943208e-01  1.13330185e-01\n",
      "  -1.69265047e-01  2.70477027e-01  1.83104053e-01  7.20183477e-02\n",
      "   1.64881259e-01 -1.44864112e-01  5.65254781e-03 -1.61098182e-01\n",
      "  -2.16283292e-01  2.57061094e-01 -7.20208883e-02  2.22440079e-01\n",
      "   5.77196330e-02  1.65631831e-01 -8.21363181e-02 -1.14009650e-02\n",
      "   1.54851973e-02  2.27654651e-02  3.37600350e-01 -8.45650062e-02\n",
      "  -1.83411583e-01 -2.02980310e-01  1.19740084e-01 -2.62838025e-02\n",
      "  -2.98113704e-01 -3.52330238e-01  1.24594122e-01  1.50544539e-01\n",
      "  -7.63732865e-02  2.25387543e-01 -7.81446248e-02 -2.62119889e-01\n",
      "  -1.89467818e-01  1.96507131e-03  1.63076103e-01  2.87945688e-01\n",
      "   2.80363560e-01 -3.02426908e-02  7.46608973e-02  3.03173333e-01\n",
      "  -4.22115996e-02 -5.19995578e-03  2.96576764e-03 -3.44941825e-01\n",
      "   1.30754918e-01  1.56075330e-02  1.61926061e-01 -4.47545834e-02\n",
      "   2.44115993e-01 -2.95684785e-01 -1.74482316e-01 -1.62347689e-01]\n",
      " [ 1.45582020e-01  1.18457563e-01  6.40105605e-02 -1.05609983e-01\n",
      "   9.39743221e-02 -2.59789050e-01 -2.52510846e-01 -1.16040722e-01\n",
      "  -1.44405723e-01  1.86227873e-01 -2.75505275e-01 -6.16024807e-02\n",
      "   4.16349769e-02  2.32393637e-01  1.04685716e-01  2.78764814e-01\n",
      "  -2.33800020e-02  1.46715984e-01 -6.45962954e-02  4.22330797e-02\n",
      "   2.44233206e-01 -2.87813600e-03  1.99610025e-01 -6.67245090e-02\n",
      "  -1.12361722e-01  2.99553663e-01 -5.94327748e-02  1.82326380e-02\n",
      "   1.39343947e-01 -2.39532724e-01  7.80382976e-02  1.73903346e-01\n",
      "   1.85052350e-01  3.33995491e-01 -1.28801525e-01  2.86146611e-01\n",
      "   2.25959346e-01  2.29567245e-01  1.92491710e-01  1.32415467e-03\n",
      "   2.53568292e-01 -2.85121620e-01 -9.84739959e-02  2.55808473e-01\n",
      "   1.95649609e-01  8.65095877e-04  6.12419918e-02  2.71247234e-02\n",
      "  -9.21301916e-03 -2.24097654e-01 -2.67411023e-01 -8.49278122e-02\n",
      "  -2.26858661e-01  1.15714572e-01 -1.16792858e-01 -1.60964251e-01\n",
      "  -1.09924719e-01  1.98178701e-02 -5.11880815e-02 -3.64320464e-02\n",
      "   1.41937017e-01  4.74272966e-02  1.55103663e-02 -3.13336939e-01]\n",
      " [-1.06451415e-01  1.70627072e-01  1.26238957e-01 -6.93909749e-02\n",
      "  -3.89297605e-02 -1.41955405e-01  2.16986209e-01  1.55831024e-01\n",
      "   8.73433277e-02  7.79276341e-02 -3.02458435e-01 -2.10957915e-01\n",
      "   2.02150062e-01 -2.54058003e-01  2.22919255e-01 -5.22610545e-02\n",
      "   4.15139459e-02  7.72341192e-02 -2.79819041e-01 -1.29936159e-01\n",
      "   1.13709345e-01  1.08212754e-01 -1.58847064e-01  1.40140414e-01\n",
      "  -1.75789371e-01 -4.08905633e-02  2.03535795e-01 -1.94647074e-01\n",
      "  -3.18504840e-01 -9.24073607e-02 -2.24084575e-02 -1.71955258e-01\n",
      "  -1.16185069e-01  1.90354422e-01  2.18383402e-01  1.12299219e-01\n",
      "  -2.88247317e-01 -1.36899218e-01 -6.94898069e-02  8.12714919e-02\n",
      "   1.01938732e-01  1.27725527e-01 -1.63523778e-01  1.50386304e-01\n",
      "  -8.64660889e-02 -1.27335906e-01  2.16402039e-01 -6.73575923e-02\n",
      "  -2.01962546e-01 -1.31909117e-01  1.68260887e-01 -1.59188300e-01\n",
      "   1.72134414e-01  1.21455111e-01  1.47448592e-02  1.69350550e-01\n",
      "  -2.07274109e-01 -4.07651179e-02  2.18206123e-01  1.40722945e-01\n",
      "   2.03441471e-01 -1.86485678e-01  5.99346086e-02  2.75193125e-01]\n",
      " [ 1.44752637e-01 -1.48627996e-01  1.81826323e-01 -2.34577343e-01\n",
      "  -2.36821294e-01  6.80417269e-02  3.79359946e-02  1.20559528e-01\n",
      "   2.49153838e-01  1.94577649e-02 -1.43789738e-01 -1.51580125e-01\n",
      "  -5.21065593e-02  2.05157235e-01  1.29510313e-01 -1.67839363e-01\n",
      "  -1.36792317e-01  1.42782733e-01  3.96802314e-02 -3.40846479e-02\n",
      "   1.88003555e-01 -1.08674414e-01 -2.44061530e-01 -3.56745183e-01\n",
      "   2.95473725e-01  4.87819128e-02 -1.60569753e-02 -2.88822591e-01\n",
      "   3.13338414e-02  1.15141273e-01  4.01383489e-02  6.20862171e-02\n",
      "  -2.47606561e-01 -2.59999007e-01  1.98677227e-01  2.00463474e-01\n",
      "  -3.25545758e-01  2.50583977e-01  6.59948140e-02 -1.27646863e-01\n",
      "  -2.09285349e-01 -1.17040746e-01 -3.98206583e-04 -1.05472445e-01\n",
      "   2.57406801e-01  2.70886302e-01  1.08815968e-01 -2.15998501e-01\n",
      "  -2.07350147e-03  4.23306832e-03  2.73269176e-01 -1.16202056e-01\n",
      "  -2.38511384e-01  1.16056666e-01 -1.96157232e-01 -1.94140881e-01\n",
      "  -8.75203162e-02  1.06478080e-01 -1.41392216e-01  1.96703464e-01\n",
      "   7.03169554e-02 -4.53222319e-02 -3.20325047e-01  1.76664114e-01]\n",
      " [ 2.29443237e-01 -3.13245207e-01  1.31713063e-01 -3.05882931e-01\n",
      "  -2.32933611e-01  6.92868382e-02  1.26101926e-01 -1.27245218e-01\n",
      "  -2.46462561e-02 -2.22813010e-01  1.19331200e-02  1.89593136e-01\n",
      "   8.15508142e-02 -1.50132865e-01  1.41949773e-01  2.50381261e-01\n",
      "   1.48843288e-01  1.39821246e-01 -6.36924058e-02 -3.87961641e-02\n",
      "  -9.18919146e-02 -2.28708297e-01 -8.06029812e-02 -9.70017351e-03\n",
      "  -5.00031970e-02  5.35303243e-02 -2.77466059e-01  1.99958280e-01\n",
      "  -2.98863053e-01  1.93187863e-01  2.87065923e-01  2.39210874e-01\n",
      "   1.01475291e-01  4.65794690e-02  2.31222272e-01 -1.47358283e-01\n",
      "  -2.51917213e-01  7.55402669e-02 -9.72082317e-02 -8.80544260e-02\n",
      "  -2.44629994e-01  2.77530663e-02  2.79116571e-01 -8.75319988e-02\n",
      "  -9.25326049e-02 -2.71265179e-01 -3.51227254e-01 -1.87069848e-01\n",
      "   4.86720614e-02  1.77731752e-01 -7.99148902e-02  1.92550704e-01\n",
      "   3.05170864e-01 -2.39518210e-01  1.30824193e-01 -3.03265512e-01\n",
      "   4.48787212e-02 -5.91640593e-04  2.80087776e-02  2.44408593e-01\n",
      "  -1.06855266e-01  1.47571459e-01 -3.26353475e-05  1.33851960e-01]\n",
      " [ 2.61885256e-01  5.89094646e-02  2.56156802e-01  3.98503020e-02\n",
      "  -1.32799372e-01 -3.01800907e-01 -1.48648962e-01 -2.64232695e-01\n",
      "  -2.13990927e-01 -1.75939098e-01 -3.06314435e-02  4.49282154e-02\n",
      "  -1.54792204e-01 -1.89774871e-01  2.38719866e-01 -3.81849445e-02\n",
      "   9.29969326e-02  7.82867055e-03  2.42400154e-01  1.78051591e-01\n",
      "   3.03876281e-01  1.86083764e-01  1.99291006e-01 -2.44994834e-01\n",
      "   2.30999872e-01 -1.48563504e-01 -2.22969949e-01  7.23912343e-02\n",
      "  -1.53206825e-01 -1.29138920e-02  2.14144871e-01  1.97533146e-01\n",
      "  -6.83238432e-02  2.28683054e-01 -2.89495885e-01 -3.02945405e-01\n",
      "  -2.81601340e-01 -2.01382771e-01  4.17163931e-02  2.13585958e-01\n",
      "   5.52307442e-02  2.09191114e-01  3.21090184e-02 -1.91779807e-02\n",
      "  -1.10592946e-01 -2.25559697e-01  5.74496612e-02 -9.30493847e-02\n",
      "  -1.83445796e-01  5.84858470e-02  4.71595190e-02  4.18225303e-02\n",
      "  -1.72805950e-01 -3.14473361e-01  1.82465389e-01 -8.65677968e-02\n",
      "   1.09433882e-01 -5.17375730e-02  3.20374332e-02  1.02974847e-01\n",
      "  -1.25821799e-01 -5.04910611e-02 -1.95743889e-01 -3.13082069e-01]\n",
      " [-2.01721296e-01 -3.03201396e-02 -2.56836325e-01  2.40542203e-01\n",
      "   8.97288397e-02  3.30513477e-01  2.05942020e-01  9.65290815e-02\n",
      "  -2.41676167e-01  1.20430097e-01 -2.19287246e-01  1.74331725e-01\n",
      "   1.70207843e-01  2.23155037e-01 -2.49466449e-02 -1.39429137e-01\n",
      "   1.91710845e-01 -1.04278736e-01  6.16835281e-02  3.32332365e-02\n",
      "  -9.52796787e-02  9.91246104e-02 -2.25314632e-01 -2.80929059e-01\n",
      "   5.39361909e-02 -1.21809170e-02  1.88626304e-01 -1.57147750e-01\n",
      "   6.96702227e-02 -1.87281892e-02  2.04649463e-01  2.73014277e-01\n",
      "   7.34707434e-03  2.51939356e-01 -2.49688879e-01 -3.15608596e-03\n",
      "   4.79649901e-02  2.10409507e-01 -2.07941473e-01  1.41432971e-01\n",
      "   1.02896979e-02  1.49317123e-02  1.97672606e-01 -2.69852966e-01\n",
      "   2.51065373e-01 -4.79365960e-02 -8.55771378e-02  2.23135889e-01\n",
      "  -1.90402523e-01  6.42683953e-02  2.72824913e-01  5.08625470e-02\n",
      "  -9.09105688e-02  2.09346741e-01  9.47453752e-02  2.17181250e-01\n",
      "  -2.69061867e-02 -3.38904500e-01  1.23911840e-03  3.13231915e-01\n",
      "   2.41076812e-01 -2.09932715e-01 -8.86765271e-02 -2.68589377e-01]\n",
      " [ 6.61355536e-03 -1.17429174e-01  1.54766664e-01  2.70043910e-01\n",
      "   3.67713086e-02  1.27700627e-01 -1.43837571e-01  2.16689214e-01\n",
      "   2.23558426e-01  1.66137308e-01  1.76532656e-01 -2.92017777e-02\n",
      "  -1.86795756e-01  2.61738241e-01 -3.38352263e-01 -1.99144766e-01\n",
      "  -1.94576159e-01  2.28957981e-01  1.99253753e-01  2.09259495e-01\n",
      "  -1.74036711e-01 -1.65812060e-01  2.50677884e-01 -6.13444261e-02\n",
      "   6.42687157e-02  9.76941139e-02  1.55251980e-01 -1.46475555e-02\n",
      "  -2.62522042e-01 -3.21085989e-01 -1.34552866e-01  7.54476115e-02\n",
      "  -3.20369810e-01  4.55811694e-02  8.44521374e-02 -1.17751442e-01\n",
      "   2.69287061e-02  2.18594655e-01  1.78168148e-01 -2.14582356e-03\n",
      "   2.83343524e-01  1.97845310e-01  5.11167347e-02  2.06043988e-01\n",
      "   6.10492192e-02 -1.29654463e-02  1.42430305e-01 -2.34902620e-01\n",
      "   2.76216447e-01 -2.42265016e-01 -1.95501164e-01 -2.06916586e-01\n",
      "  -1.59210816e-01  1.58049524e-01  1.64835438e-01  1.05152681e-01\n",
      "   2.41896287e-01  4.13659886e-02  1.59361035e-01  1.10636815e-01\n",
      "  -1.13057300e-01 -1.12794943e-01 -1.15658678e-01 -4.55333330e-02]\n",
      " [ 2.01204374e-01 -3.08077842e-01  1.38160914e-01 -1.61814943e-01\n",
      "  -4.53629136e-01  4.08447087e-02 -5.96654080e-02 -2.99404818e-03\n",
      "   8.48597065e-02 -4.34228569e-01  1.88858166e-01 -1.13599218e-01\n",
      "  -2.39758417e-01 -2.83603221e-01 -1.74855851e-02 -9.81594771e-02\n",
      "  -1.36768743e-01 -9.01870355e-02  3.00778180e-01 -6.33254349e-02\n",
      "  -3.54856849e-01 -3.51245105e-01  1.01031095e-01  3.38409513e-01\n",
      "   1.62918717e-01 -2.70883918e-01 -1.20546058e-01 -1.33084327e-01\n",
      "   1.25773132e-01  2.02611074e-01  2.09718302e-01  7.33738020e-02\n",
      "   2.02979967e-01 -1.68970615e-01 -7.42772371e-02  3.61272916e-02\n",
      "  -1.56990275e-01  4.66593802e-02  4.39675711e-02 -4.32185471e-01\n",
      "  -2.56140888e-01 -3.77045453e-01  4.32538055e-02  2.30958253e-01\n",
      "   4.49702702e-02  2.09058225e-01 -1.59337167e-02 -1.40511259e-01\n",
      "  -3.81399035e-01  2.58299917e-01 -1.95281267e-01 -1.66078210e-01\n",
      "  -9.10174847e-02 -7.71756098e-02 -8.27362090e-02  1.96190998e-01\n",
      "  -3.16835165e-01  2.49054417e-01 -1.36516854e-01  1.21756732e-01\n",
      "   3.06066036e-01  1.04299888e-01  6.60735741e-02  3.87788080e-02]\n",
      " [-3.30378950e-01 -4.53879163e-02 -1.13497511e-01 -2.08994940e-01\n",
      "   1.44304976e-01  3.07996199e-02  1.66523188e-01  1.75735265e-01\n",
      "   1.16050160e-02 -7.62506248e-03  3.42684314e-02 -1.16239451e-01\n",
      "  -5.22494167e-02 -2.65304834e-01 -3.25514793e-01  3.11946034e-01\n",
      "   4.03615981e-02 -6.93138912e-02 -1.66881666e-01  2.02084482e-01\n",
      "   1.60597250e-01 -3.04472446e-01  4.09192853e-02  2.83574522e-01\n",
      "  -1.59383640e-01 -1.69165567e-01 -1.81319609e-01  1.03903286e-01\n",
      "  -2.84394205e-01 -2.47367963e-01 -3.01228404e-01 -2.52021134e-01\n",
      "  -8.80381986e-02  2.56960332e-01  3.83585505e-02  3.29768002e-01\n",
      "   1.58201829e-01 -2.87730061e-02 -1.34322478e-03  6.81870505e-02\n",
      "   6.31298050e-02  1.24114886e-01  3.21971357e-01  2.68033504e-01\n",
      "  -9.11774635e-02 -3.43022078e-01  1.01022601e-01  1.79938897e-01\n",
      "   1.23492517e-01 -5.38714565e-02  9.98250842e-02 -1.83513775e-01\n",
      "   3.18578452e-01 -1.48687109e-01 -6.21455945e-02  2.97075566e-02\n",
      "  -1.05587043e-01  3.69761437e-01 -2.85793990e-01  1.03402004e-01\n",
      "   1.48212118e-02  2.01704994e-01 -7.87222087e-02  2.27207869e-01]]\n",
      "========================================================================================================================================================================================================\n",
      "bias [-0.0057681   0.01139857 -0.0551325  -0.01857855  0.01639446  0.03247023\n",
      " -0.04414427  0.05159947  0.03413583 -0.02682013 -0.05427787 -0.11532341\n",
      " -0.08615128  0.00014413  0.02529762  0.02411588 -0.01617909 -0.02433141\n",
      " -0.07501385  0.00224175 -0.04285107  0.0601128   0.08014102  0.0467605\n",
      " -0.02264707 -0.02080551 -0.02616728  0.03791499 -0.05481452 -0.08682065\n",
      " -0.0198154  -0.0110465   0.06613306  0.05903268  0.06218333  0.07608864\n",
      "  0.05417646  0.10404748  0.01369569  0.07393239  0.0542229   0.05863543\n",
      "  0.10280063  0.01666799  0.09122929 -0.00719426 -0.00101815 -0.0425802\n",
      " -0.0124245  -0.07545976 -0.03506419 -0.04182551  0.02768498  0.04423907\n",
      " -0.02074741  0.04808207  0.00681256  0.04154506  0.0159311   0.07478371\n",
      " -0.00019392 -0.02142394 -0.01231967  0.05740328]\n",
      "========================================================================================================================================================================================================\n",
      "weights : [[ 0.07814024  0.22474717 -0.17282453 ... -0.0617542  -0.00965226\n",
      "   0.10013836]\n",
      " [-0.09843645  0.34235427 -0.05507578 ... -0.11835507 -0.22986464\n",
      "  -0.06528357]\n",
      " [ 0.3352275   0.16366588  0.02435719 ... -0.22623089  0.18163721\n",
      "  -0.07072266]\n",
      " ...\n",
      " [-0.00355251 -0.03591209 -0.01361326 ... -0.1637444   0.19163774\n",
      "  -0.21167623]\n",
      " [ 0.1959485  -0.02161505  0.01703326 ... -0.20974885  0.0517968\n",
      "   0.08250273]\n",
      " [ 0.03714314 -0.01899915 -0.03106047 ...  0.1444009  -0.09029277\n",
      "   0.14870216]]\n",
      "========================================================================================================================================================================================================\n",
      "bias [-0.05682216 -0.04663347  0.07338847  0.02612175 -0.0499844  -0.01223279\n",
      "  0.09009888 -0.04292094  0.06051125  0.08489659 -0.00894517 -0.05542468\n",
      " -0.01981973  0.0158389  -0.02292771  0.06201492 -0.07133202  0.10754941\n",
      "  0.10487052  0.04487249  0.08205548 -0.00321376  0.0824428   0.00094589\n",
      " -0.00393444 -0.02619807 -0.00671658  0.07820724  0.02859508  0.05740051\n",
      " -0.05703909 -0.04957443]\n",
      "========================================================================================================================================================================================================\n",
      "weights : [[ 0.4545429 ]\n",
      " [ 0.24299876]\n",
      " [-0.33667237]\n",
      " [ 0.17070346]\n",
      " [ 0.41312847]\n",
      " [ 0.3913625 ]\n",
      " [-0.52380306]\n",
      " [ 0.4073132 ]\n",
      " [-0.4548943 ]\n",
      " [-0.3907357 ]\n",
      " [-0.3562813 ]\n",
      " [ 0.35238838]\n",
      " [ 0.2558853 ]\n",
      " [ 0.42983395]\n",
      " [-0.03572342]\n",
      " [-0.5408693 ]\n",
      " [ 0.3804303 ]\n",
      " [-0.51779586]\n",
      " [-0.08131298]\n",
      " [-0.27249423]\n",
      " [-0.0543537 ]\n",
      " [-0.19242255]\n",
      " [-0.10448262]\n",
      " [ 0.10263544]\n",
      " [ 0.35600615]\n",
      " [ 0.4472637 ]\n",
      " [ 0.32628742]\n",
      " [-0.15605   ]\n",
      " [-0.3608369 ]\n",
      " [-0.34616125]\n",
      " [ 0.26256767]\n",
      " [ 0.215104  ]]\n",
      "========================================================================================================================================================================================================\n",
      "bias [-0.06922702]\n",
      "========================================================================================================================================================================================================\n",
      "weights : [[ 0.15353389 -0.03530371  0.0960901   0.38719392  0.33124995  0.10952999\n",
      "  -0.05272454  0.23934102 -0.1250231   0.17096964 -0.05259033  0.34053066\n",
      "  -0.23184429 -0.16861127 -0.04957992  0.13861959 -0.06849012  0.05311258\n",
      "  -0.05784829 -0.11605695  0.3708161  -0.21035433 -0.19242436 -0.2237859\n",
      "  -0.07038426  0.05558759 -0.26937485  0.19302642 -0.2957565  -0.03404701\n",
      "  -0.14337067  0.36222064 -0.10179625  0.39609694  0.3575975   0.08608454\n",
      "  -0.10409097  0.00688981  0.22289863 -0.29054248 -0.0784041   0.01516809\n",
      "   0.20290236 -0.00413898 -0.06125151  0.26634672 -0.04934132 -0.0364036\n",
      "   0.14831205 -0.0397118   0.31896847  0.13849877  0.23938093 -0.19071172\n",
      "   0.21015824 -0.07353853 -0.1475229  -0.1930337  -0.03866398  0.2907943\n",
      "  -0.08068484  0.29070604  0.12782311 -0.16700506]]\n",
      "========================================================================================================================================================================================================\n",
      "bias [-0.00492083  0.          0.1150288  -0.01667952 -0.01405924  0.20220116\n",
      "  0.16362348 -0.00801694  0.         -0.00577352  0.18287209 -0.0122858\n",
      "  0.          0.          0.          0.17717557  0.          0.09154738\n",
      "  0.          0.         -0.01292549  0.          0.          0.\n",
      "  0.          0.10952458  0.          0.08422758  0.          0.\n",
      "  0.         -0.01161833  0.         -0.01475327 -0.01545705 -0.004355\n",
      "  0.         -0.00881855  0.15758711  0.          0.          0.18710506\n",
      "  0.23443508  0.          0.15903313 -0.00931184  0.          0.\n",
      " -0.00491623  0.         -0.01164404 -0.00328491 -0.00804254  0.\n",
      " -0.00620452  0.          0.          0.          0.         -0.01475173\n",
      "  0.         -0.00928547 -0.00280747  0.        ]\n",
      "========================================================================================================================================================================================================\n",
      "weights : [[-0.00097427 -0.26459816  0.34264112 ...  0.31219596 -0.10621333\n",
      "   0.06880429]\n",
      " [ 0.19225627 -0.049344   -0.20553517 ...  0.19681442 -0.01344746\n",
      "  -0.02104628]\n",
      " [ 0.09038093  0.12284254 -0.04988946 ... -0.02864421 -0.07637572\n",
      "   0.25140104]\n",
      " ...\n",
      " [ 0.10064872 -0.19489346  0.02819697 ...  0.16847175  0.10972965\n",
      "   0.29209825]\n",
      " [-0.10897924  0.09733995 -0.09538768 ...  0.00890126  0.03253424\n",
      "   0.06594995]\n",
      " [ 0.19647348  0.16744816  0.13297796 ...  0.01242101 -0.06452876\n",
      "  -0.03248543]]\n",
      "========================================================================================================================================================================================================\n",
      "bias [ 0.16318008  0.19069666 -0.02591482 -0.01626793  0.20519948 -0.04630708\n",
      " -0.00889983 -0.08556935  0.17008486 -0.02391286  0.          0.\n",
      "  0.1428087   0.14807284 -0.0036045  -0.01635018 -0.009354    0.14754727\n",
      "  0.14950871  0.12653315  0.12002542 -0.02963182 -0.0316168   0.\n",
      "  0.         -0.00564839 -0.04572057  0.16160472  0.03584484 -0.07248507\n",
      "  0.         -0.05512426]\n",
      "========================================================================================================================================================================================================\n",
      "weights : [[ 0.6823695 ]\n",
      " [ 0.20982921]\n",
      " [-0.3742291 ]\n",
      " [ 0.13886686]\n",
      " [ 0.28413042]\n",
      " [-0.41407144]\n",
      " [-0.3785819 ]\n",
      " [-0.2603298 ]\n",
      " [ 0.41016564]\n",
      " [-0.5370113 ]\n",
      " [ 0.32530874]\n",
      " [ 0.11038268]\n",
      " [ 0.39645624]\n",
      " [ 0.3668117 ]\n",
      " [-0.33718392]\n",
      " [-0.22354339]\n",
      " [-0.28608426]\n",
      " [ 0.51020384]\n",
      " [ 0.38028863]\n",
      " [ 0.4929309 ]\n",
      " [ 0.49789235]\n",
      " [-0.16385484]\n",
      " [-0.21434268]\n",
      " [-0.4073706 ]\n",
      " [-0.13712236]\n",
      " [-0.15833488]\n",
      " [-0.28438345]\n",
      " [ 0.456473  ]\n",
      " [-0.07191634]\n",
      " [-0.43654007]\n",
      " [-0.10069391]\n",
      " [-0.399593  ]]\n",
      "========================================================================================================================================================================================================\n",
      "bias [0.11340383]\n",
      "========================================================================================================================================================================================================\n"
     ]
    }
   ],
   "source": [
    "for layer in model.layers:\n",
    "    weights,bias = layer.get_weights()\n",
    "    print(f'weights : {weights}')\n",
    "    print('=='*100)\n",
    "    print(f'bias {bias}')\n",
    "    print('=='*100)"
   ]
  },
  {
   "cell_type": "markdown",
   "id": "70b5026e-70e8-4ff6-89c6-0e659c47e733",
   "metadata": {},
   "source": [
    "# Q.14"
   ]
  },
  {
   "cell_type": "code",
   "execution_count": 60,
   "id": "171bf006-d812-46b1-ac12-3264751e57cf",
   "metadata": {},
   "outputs": [
    {
     "data": {
      "text/html": [
       "<div>\n",
       "<style scoped>\n",
       "    .dataframe tbody tr th:only-of-type {\n",
       "        vertical-align: middle;\n",
       "    }\n",
       "\n",
       "    .dataframe tbody tr th {\n",
       "        vertical-align: top;\n",
       "    }\n",
       "\n",
       "    .dataframe thead th {\n",
       "        text-align: right;\n",
       "    }\n",
       "</style>\n",
       "<table border=\"1\" class=\"dataframe\">\n",
       "  <thead>\n",
       "    <tr style=\"text-align: right;\">\n",
       "      <th></th>\n",
       "      <th>accuracy</th>\n",
       "      <th>loss</th>\n",
       "      <th>val_accuracy</th>\n",
       "      <th>val_loss</th>\n",
       "    </tr>\n",
       "  </thead>\n",
       "  <tbody>\n",
       "    <tr>\n",
       "      <th>0</th>\n",
       "      <td>0.506702</td>\n",
       "      <td>0.693463</td>\n",
       "      <td>0.570833</td>\n",
       "      <td>0.688385</td>\n",
       "    </tr>\n",
       "    <tr>\n",
       "      <th>1</th>\n",
       "      <td>0.601430</td>\n",
       "      <td>0.687176</td>\n",
       "      <td>0.654167</td>\n",
       "      <td>0.680591</td>\n",
       "    </tr>\n",
       "    <tr>\n",
       "      <th>2</th>\n",
       "      <td>0.719392</td>\n",
       "      <td>0.649515</td>\n",
       "      <td>0.666667</td>\n",
       "      <td>0.647173</td>\n",
       "    </tr>\n",
       "    <tr>\n",
       "      <th>3</th>\n",
       "      <td>0.753351</td>\n",
       "      <td>0.589507</td>\n",
       "      <td>0.708333</td>\n",
       "      <td>0.606757</td>\n",
       "    </tr>\n",
       "    <tr>\n",
       "      <th>4</th>\n",
       "      <td>0.761394</td>\n",
       "      <td>0.541520</td>\n",
       "      <td>0.695833</td>\n",
       "      <td>0.598835</td>\n",
       "    </tr>\n",
       "    <tr>\n",
       "      <th>5</th>\n",
       "      <td>0.775693</td>\n",
       "      <td>0.511525</td>\n",
       "      <td>0.716667</td>\n",
       "      <td>0.586623</td>\n",
       "    </tr>\n",
       "    <tr>\n",
       "      <th>6</th>\n",
       "      <td>0.773905</td>\n",
       "      <td>0.496237</td>\n",
       "      <td>0.687500</td>\n",
       "      <td>0.613892</td>\n",
       "    </tr>\n",
       "    <tr>\n",
       "      <th>7</th>\n",
       "      <td>0.786416</td>\n",
       "      <td>0.481950</td>\n",
       "      <td>0.708333</td>\n",
       "      <td>0.579933</td>\n",
       "    </tr>\n",
       "    <tr>\n",
       "      <th>8</th>\n",
       "      <td>0.795353</td>\n",
       "      <td>0.471656</td>\n",
       "      <td>0.695833</td>\n",
       "      <td>0.582638</td>\n",
       "    </tr>\n",
       "    <tr>\n",
       "      <th>9</th>\n",
       "      <td>0.793566</td>\n",
       "      <td>0.464806</td>\n",
       "      <td>0.712500</td>\n",
       "      <td>0.581747</td>\n",
       "    </tr>\n",
       "  </tbody>\n",
       "</table>\n",
       "</div>"
      ],
      "text/plain": [
       "   accuracy      loss  val_accuracy  val_loss\n",
       "0  0.506702  0.693463      0.570833  0.688385\n",
       "1  0.601430  0.687176      0.654167  0.680591\n",
       "2  0.719392  0.649515      0.666667  0.647173\n",
       "3  0.753351  0.589507      0.708333  0.606757\n",
       "4  0.761394  0.541520      0.695833  0.598835\n",
       "5  0.775693  0.511525      0.716667  0.586623\n",
       "6  0.773905  0.496237      0.687500  0.613892\n",
       "7  0.786416  0.481950      0.708333  0.579933\n",
       "8  0.795353  0.471656      0.695833  0.582638\n",
       "9  0.793566  0.464806      0.712500  0.581747"
      ]
     },
     "execution_count": 60,
     "metadata": {},
     "output_type": "execute_result"
    }
   ],
   "source": [
    "pd.DataFrame(history.history)"
   ]
  },
  {
   "cell_type": "code",
   "execution_count": 62,
   "id": "2433bf5e-8908-4b41-ae2c-ce5185bb927a",
   "metadata": {},
   "outputs": [
    {
     "data": {
      "image/png": "[encoded data removed]",
      "text/plain": [
       "<Figure size 1200x500 with 2 Axes>"
      ]
     },
     "metadata": {},
     "output_type": "display_data"
    }
   ],
   "source": [
    "import matplotlib.pyplot as plt\n",
    "\n",
    "plt.figure(figsize=(12,5))\n",
    "plt.subplot(1,2,1)\n",
    "plt.plot(history.history['accuracy'],label='train_accuracy')\n",
    "plt.plot(history.history['val_accuracy'],label='val accuracy')\n",
    "plt.legend()\n",
    "\n",
    "plt.subplot(1,2,2)\n",
    "plt.plot(history.history['loss'],label='train_loss')\n",
    "plt.plot(history.history['val_loss'],label='val loss')\n",
    "plt.legend()\n",
    "plt.tight_layout()\n",
    "plt.show()"
   ]
  },
  {
   "cell_type": "markdown",
   "id": "bd93d0c3-ea87-4cca-a937-76b1bf5bd14c",
   "metadata": {},
   "source": [
    "# Q.15"
   ]
  },
  {
   "cell_type": "code",
   "execution_count": null,
   "id": "9c6a9855-8009-4e98-bbdf-5e5cf8695a1f",
   "metadata": {},
   "outputs": [],
   "source": []
  }
 ],
 "metadata": {
  "kernelspec": {
   "display_name": "Python 3 (ipykernel)",
   "language": "python",
   "name": "python3"
  },
  "language_info": {
   "codemirror_mode": {
    "name": "ipython",
    "version": 3
   },
   "file_extension": ".py",
   "mimetype": "text/x-python",
   "name": "python",
   "nbconvert_exporter": "python",
   "pygments_lexer": "ipython3",
   "version": "3.10.8"
  }
 },
 "nbformat": 4,
 "nbformat_minor": 5
}
