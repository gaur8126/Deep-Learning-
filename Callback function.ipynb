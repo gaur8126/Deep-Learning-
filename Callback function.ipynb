{
 "cells": [
  {
   "cell_type": "markdown",
   "id": "dba28da2-aac8-49d4-85cf-736696f5aeb2",
   "metadata": {},
   "source": [
    "# Q.1"
   ]
  },
  {
   "cell_type": "code",
   "execution_count": 4,
   "id": "246377ec-e98e-4bad-b0df-72c0c63ccd77",
   "metadata": {},
   "outputs": [
    {
     "name": "stdout",
     "output_type": "stream",
     "text": [
      "tensor version 2.17.0\n",
      "keras version 3.4.1\n"
     ]
    }
   ],
   "source": [
    "import pandas as pd \n",
    "import numpy as np \n",
    "import tensorflow as tf \n",
    "import keras \n",
    "import seaborn as sns \n",
    "import matplotlib.pyplot as plt \n",
    "\n",
    "print(f'tensor version {tf.__version__}')\n",
    "print(f'keras version {keras.__version__}')"
   ]
  },
  {
   "cell_type": "code",
   "execution_count": 5,
   "id": "ee06d142-0dfd-46e2-9681-7a33ffc5b381",
   "metadata": {},
   "outputs": [
    {
     "name": "stdout",
     "output_type": "stream",
     "text": [
      "Requirement already satisfied: tensorflow in /opt/conda/lib/python3.10/site-packages (2.17.0)\n",
      "Requirement already satisfied: wrapt>=1.11.0 in /opt/conda/lib/python3.10/site-packages (from tensorflow) (1.16.0)\n",
      "Requirement already satisfied: requests<3,>=2.21.0 in /opt/conda/lib/python3.10/site-packages (from tensorflow) (2.28.1)\n",
      "Requirement already satisfied: google-pasta>=0.1.1 in /opt/conda/lib/python3.10/site-packages (from tensorflow) (0.2.0)\n",
      "Requirement already satisfied: absl-py>=1.0.0 in /opt/conda/lib/python3.10/site-packages (from tensorflow) (2.1.0)\n",
      "Requirement already satisfied: h5py>=3.10.0 in /opt/conda/lib/python3.10/site-packages (from tensorflow) (3.11.0)\n",
      "Requirement already satisfied: grpcio<2.0,>=1.24.3 in /opt/conda/lib/python3.10/site-packages (from tensorflow) (1.65.4)\n",
      "Requirement already satisfied: typing-extensions>=3.6.6 in /opt/conda/lib/python3.10/site-packages (from tensorflow) (4.12.2)\n",
      "Requirement already satisfied: numpy<2.0.0,>=1.23.5 in /opt/conda/lib/python3.10/site-packages (from tensorflow) (1.23.5)\n",
      "Requirement already satisfied: keras>=3.2.0 in /opt/conda/lib/python3.10/site-packages (from tensorflow) (3.4.1)\n",
      "Requirement already satisfied: tensorflow-io-gcs-filesystem>=0.23.1 in /opt/conda/lib/python3.10/site-packages (from tensorflow) (0.37.1)\n",
      "Requirement already satisfied: libclang>=13.0.0 in /opt/conda/lib/python3.10/site-packages (from tensorflow) (18.1.1)\n",
      "Requirement already satisfied: protobuf!=4.21.0,!=4.21.1,!=4.21.2,!=4.21.3,!=4.21.4,!=4.21.5,<5.0.0dev,>=3.20.3 in /opt/conda/lib/python3.10/site-packages (from tensorflow) (4.21.11)\n",
      "Requirement already satisfied: opt-einsum>=2.3.2 in /opt/conda/lib/python3.10/site-packages (from tensorflow) (3.3.0)\n",
      "Requirement already satisfied: flatbuffers>=24.3.25 in /opt/conda/lib/python3.10/site-packages (from tensorflow) (24.3.25)\n",
      "Requirement already satisfied: setuptools in /opt/conda/lib/python3.10/site-packages (from tensorflow) (65.5.1)\n",
      "Requirement already satisfied: ml-dtypes<0.5.0,>=0.3.1 in /opt/conda/lib/python3.10/site-packages (from tensorflow) (0.4.0)\n",
      "Requirement already satisfied: packaging in /opt/conda/lib/python3.10/site-packages (from tensorflow) (22.0)\n",
      "Requirement already satisfied: tensorboard<2.18,>=2.17 in /opt/conda/lib/python3.10/site-packages (from tensorflow) (2.17.0)\n",
      "Requirement already satisfied: termcolor>=1.1.0 in /opt/conda/lib/python3.10/site-packages (from tensorflow) (2.4.0)\n",
      "Requirement already satisfied: gast!=0.5.0,!=0.5.1,!=0.5.2,>=0.2.1 in /opt/conda/lib/python3.10/site-packages (from tensorflow) (0.6.0)\n",
      "Requirement already satisfied: astunparse>=1.6.0 in /opt/conda/lib/python3.10/site-packages (from tensorflow) (1.6.3)\n",
      "Requirement already satisfied: six>=1.12.0 in /opt/conda/lib/python3.10/site-packages (from tensorflow) (1.16.0)\n",
      "Requirement already satisfied: wheel<1.0,>=0.23.0 in /opt/conda/lib/python3.10/site-packages (from astunparse>=1.6.0->tensorflow) (0.38.4)\n",
      "Requirement already satisfied: namex in /opt/conda/lib/python3.10/site-packages (from keras>=3.2.0->tensorflow) (0.0.8)\n",
      "Requirement already satisfied: optree in /opt/conda/lib/python3.10/site-packages (from keras>=3.2.0->tensorflow) (0.12.1)\n",
      "Requirement already satisfied: rich in /opt/conda/lib/python3.10/site-packages (from keras>=3.2.0->tensorflow) (13.7.1)\n",
      "Requirement already satisfied: certifi>=2017.4.17 in /opt/conda/lib/python3.10/site-packages (from requests<3,>=2.21.0->tensorflow) (2022.12.7)\n",
      "Requirement already satisfied: idna<4,>=2.5 in /opt/conda/lib/python3.10/site-packages (from requests<3,>=2.21.0->tensorflow) (3.4)\n",
      "Requirement already satisfied: charset-normalizer<3,>=2 in /opt/conda/lib/python3.10/site-packages (from requests<3,>=2.21.0->tensorflow) (2.1.1)\n",
      "Requirement already satisfied: urllib3<1.27,>=1.21.1 in /opt/conda/lib/python3.10/site-packages (from requests<3,>=2.21.0->tensorflow) (1.26.13)\n",
      "Requirement already satisfied: markdown>=2.6.8 in /opt/conda/lib/python3.10/site-packages (from tensorboard<2.18,>=2.17->tensorflow) (3.6)\n",
      "Requirement already satisfied: werkzeug>=1.0.1 in /opt/conda/lib/python3.10/site-packages (from tensorboard<2.18,>=2.17->tensorflow) (3.0.3)\n",
      "Requirement already satisfied: tensorboard-data-server<0.8.0,>=0.7.0 in /opt/conda/lib/python3.10/site-packages (from tensorboard<2.18,>=2.17->tensorflow) (0.7.2)\n",
      "Requirement already satisfied: MarkupSafe>=2.1.1 in /opt/conda/lib/python3.10/site-packages (from werkzeug>=1.0.1->tensorboard<2.18,>=2.17->tensorflow) (2.1.1)\n",
      "Requirement already satisfied: markdown-it-py>=2.2.0 in /opt/conda/lib/python3.10/site-packages (from rich->keras>=3.2.0->tensorflow) (3.0.0)\n",
      "Requirement already satisfied: pygments<3.0.0,>=2.13.0 in /opt/conda/lib/python3.10/site-packages (from rich->keras>=3.2.0->tensorflow) (2.13.0)\n",
      "Requirement already satisfied: mdurl~=0.1 in /opt/conda/lib/python3.10/site-packages (from markdown-it-py>=2.2.0->rich->keras>=3.2.0->tensorflow) (0.1.2)\n",
      "Requirement already satisfied: keras in /opt/conda/lib/python3.10/site-packages (3.4.1)\n",
      "Requirement already satisfied: rich in /opt/conda/lib/python3.10/site-packages (from keras) (13.7.1)\n",
      "Requirement already satisfied: absl-py in /opt/conda/lib/python3.10/site-packages (from keras) (2.1.0)\n",
      "Requirement already satisfied: packaging in /opt/conda/lib/python3.10/site-packages (from keras) (22.0)\n",
      "Requirement already satisfied: h5py in /opt/conda/lib/python3.10/site-packages (from keras) (3.11.0)\n",
      "Requirement already satisfied: namex in /opt/conda/lib/python3.10/site-packages (from keras) (0.0.8)\n",
      "Requirement already satisfied: optree in /opt/conda/lib/python3.10/site-packages (from keras) (0.12.1)\n",
      "Requirement already satisfied: numpy in /opt/conda/lib/python3.10/site-packages (from keras) (1.23.5)\n",
      "Requirement already satisfied: ml-dtypes in /opt/conda/lib/python3.10/site-packages (from keras) (0.4.0)\n",
      "Requirement already satisfied: typing-extensions>=4.5.0 in /opt/conda/lib/python3.10/site-packages (from optree->keras) (4.12.2)\n",
      "Requirement already satisfied: pygments<3.0.0,>=2.13.0 in /opt/conda/lib/python3.10/site-packages (from rich->keras) (2.13.0)\n",
      "Requirement already satisfied: markdown-it-py>=2.2.0 in /opt/conda/lib/python3.10/site-packages (from rich->keras) (3.0.0)\n",
      "Requirement already satisfied: mdurl~=0.1 in /opt/conda/lib/python3.10/site-packages (from markdown-it-py>=2.2.0->rich->keras) (0.1.2)\n"
     ]
    }
   ],
   "source": [
    "!pip install tensorflow\n",
    "!pip install keras"
   ]
  },
  {
   "cell_type": "markdown",
   "id": "43a848e3-aa6e-47d7-9258-f66ccb1003f6",
   "metadata": {},
   "source": [
    "# Q.2"
   ]
  },
  {
   "cell_type": "code",
   "execution_count": 6,
   "id": "b4c4cdbf-eb4a-4088-8389-2faed7a54f8d",
   "metadata": {},
   "outputs": [
    {
     "data": {
      "text/html": [
       "<div>\n",
       "<style scoped>\n",
       "    .dataframe tbody tr th:only-of-type {\n",
       "        vertical-align: middle;\n",
       "    }\n",
       "\n",
       "    .dataframe tbody tr th {\n",
       "        vertical-align: top;\n",
       "    }\n",
       "\n",
       "    .dataframe thead th {\n",
       "        text-align: right;\n",
       "    }\n",
       "</style>\n",
       "<table border=\"1\" class=\"dataframe\">\n",
       "  <thead>\n",
       "    <tr style=\"text-align: right;\">\n",
       "      <th></th>\n",
       "      <th>fixed acidity</th>\n",
       "      <th>volatile acidity</th>\n",
       "      <th>citric acid</th>\n",
       "      <th>residual sugar</th>\n",
       "      <th>chlorides</th>\n",
       "      <th>free sulfur dioxide</th>\n",
       "      <th>total sulfur dioxide</th>\n",
       "      <th>density</th>\n",
       "      <th>pH</th>\n",
       "      <th>sulphates</th>\n",
       "      <th>alcohol</th>\n",
       "      <th>quality</th>\n",
       "    </tr>\n",
       "  </thead>\n",
       "  <tbody>\n",
       "    <tr>\n",
       "      <th>0</th>\n",
       "      <td>7.4</td>\n",
       "      <td>0.70</td>\n",
       "      <td>0.00</td>\n",
       "      <td>1.9</td>\n",
       "      <td>0.076</td>\n",
       "      <td>11.0</td>\n",
       "      <td>34.0</td>\n",
       "      <td>0.9978</td>\n",
       "      <td>3.51</td>\n",
       "      <td>0.56</td>\n",
       "      <td>9.4</td>\n",
       "      <td>bad</td>\n",
       "    </tr>\n",
       "    <tr>\n",
       "      <th>1</th>\n",
       "      <td>7.8</td>\n",
       "      <td>0.88</td>\n",
       "      <td>0.00</td>\n",
       "      <td>2.6</td>\n",
       "      <td>0.098</td>\n",
       "      <td>25.0</td>\n",
       "      <td>67.0</td>\n",
       "      <td>0.9968</td>\n",
       "      <td>3.20</td>\n",
       "      <td>0.68</td>\n",
       "      <td>9.8</td>\n",
       "      <td>bad</td>\n",
       "    </tr>\n",
       "    <tr>\n",
       "      <th>2</th>\n",
       "      <td>7.8</td>\n",
       "      <td>0.76</td>\n",
       "      <td>0.04</td>\n",
       "      <td>2.3</td>\n",
       "      <td>0.092</td>\n",
       "      <td>15.0</td>\n",
       "      <td>54.0</td>\n",
       "      <td>0.9970</td>\n",
       "      <td>3.26</td>\n",
       "      <td>0.65</td>\n",
       "      <td>9.8</td>\n",
       "      <td>bad</td>\n",
       "    </tr>\n",
       "    <tr>\n",
       "      <th>3</th>\n",
       "      <td>11.2</td>\n",
       "      <td>0.28</td>\n",
       "      <td>0.56</td>\n",
       "      <td>1.9</td>\n",
       "      <td>0.075</td>\n",
       "      <td>17.0</td>\n",
       "      <td>60.0</td>\n",
       "      <td>0.9980</td>\n",
       "      <td>3.16</td>\n",
       "      <td>0.58</td>\n",
       "      <td>9.8</td>\n",
       "      <td>good</td>\n",
       "    </tr>\n",
       "    <tr>\n",
       "      <th>4</th>\n",
       "      <td>7.4</td>\n",
       "      <td>0.70</td>\n",
       "      <td>0.00</td>\n",
       "      <td>1.9</td>\n",
       "      <td>0.076</td>\n",
       "      <td>11.0</td>\n",
       "      <td>34.0</td>\n",
       "      <td>0.9978</td>\n",
       "      <td>3.51</td>\n",
       "      <td>0.56</td>\n",
       "      <td>9.4</td>\n",
       "      <td>bad</td>\n",
       "    </tr>\n",
       "  </tbody>\n",
       "</table>\n",
       "</div>"
      ],
      "text/plain": [
       "   fixed acidity  volatile acidity  citric acid  residual sugar  chlorides  \\\n",
       "0            7.4              0.70         0.00             1.9      0.076   \n",
       "1            7.8              0.88         0.00             2.6      0.098   \n",
       "2            7.8              0.76         0.04             2.3      0.092   \n",
       "3           11.2              0.28         0.56             1.9      0.075   \n",
       "4            7.4              0.70         0.00             1.9      0.076   \n",
       "\n",
       "   free sulfur dioxide  total sulfur dioxide  density    pH  sulphates  \\\n",
       "0                 11.0                  34.0   0.9978  3.51       0.56   \n",
       "1                 25.0                  67.0   0.9968  3.20       0.68   \n",
       "2                 15.0                  54.0   0.9970  3.26       0.65   \n",
       "3                 17.0                  60.0   0.9980  3.16       0.58   \n",
       "4                 11.0                  34.0   0.9978  3.51       0.56   \n",
       "\n",
       "   alcohol quality  \n",
       "0      9.4     bad  \n",
       "1      9.8     bad  \n",
       "2      9.8     bad  \n",
       "3      9.8    good  \n",
       "4      9.4     bad  "
      ]
     },
     "execution_count": 6,
     "metadata": {},
     "output_type": "execute_result"
    }
   ],
   "source": [
    "df = pd.read_csv('wine.csv')\n",
    "df.head()"
   ]
  },
  {
   "cell_type": "code",
   "execution_count": 7,
   "id": "6b1f5f5e-ffb0-4ef7-a759-b79f13686505",
   "metadata": {},
   "outputs": [
    {
     "data": {
      "text/plain": [
       "(1599, 12)"
      ]
     },
     "execution_count": 7,
     "metadata": {},
     "output_type": "execute_result"
    }
   ],
   "source": [
    "df.shape"
   ]
  },
  {
   "cell_type": "markdown",
   "id": "a78c87de-1ae7-4c81-b736-5db2447892a3",
   "metadata": {},
   "source": [
    "# Q.3 "
   ]
  },
  {
   "cell_type": "code",
   "execution_count": 8,
   "id": "7c543aa7-7aa6-4e2d-bffb-ca9456837633",
   "metadata": {},
   "outputs": [
    {
     "data": {
      "text/plain": [
       "fixed acidity           0\n",
       "volatile acidity        0\n",
       "citric acid             0\n",
       "residual sugar          0\n",
       "chlorides               0\n",
       "free sulfur dioxide     0\n",
       "total sulfur dioxide    0\n",
       "density                 0\n",
       "pH                      0\n",
       "sulphates               0\n",
       "alcohol                 0\n",
       "quality                 0\n",
       "dtype: int64"
      ]
     },
     "execution_count": 8,
     "metadata": {},
     "output_type": "execute_result"
    }
   ],
   "source": [
    "df.isnull().sum()"
   ]
  },
  {
   "cell_type": "code",
   "execution_count": 9,
   "id": "deb0b81f-dd1a-4138-858f-14ac3f5a0365",
   "metadata": {},
   "outputs": [
    {
     "name": "stdout",
     "output_type": "stream",
     "text": [
      "<class 'pandas.core.frame.DataFrame'>\n",
      "RangeIndex: 1599 entries, 0 to 1598\n",
      "Data columns (total 12 columns):\n",
      " #   Column                Non-Null Count  Dtype  \n",
      "---  ------                --------------  -----  \n",
      " 0   fixed acidity         1599 non-null   float64\n",
      " 1   volatile acidity      1599 non-null   float64\n",
      " 2   citric acid           1599 non-null   float64\n",
      " 3   residual sugar        1599 non-null   float64\n",
      " 4   chlorides             1599 non-null   float64\n",
      " 5   free sulfur dioxide   1599 non-null   float64\n",
      " 6   total sulfur dioxide  1599 non-null   float64\n",
      " 7   density               1599 non-null   float64\n",
      " 8   pH                    1599 non-null   float64\n",
      " 9   sulphates             1599 non-null   float64\n",
      " 10  alcohol               1599 non-null   float64\n",
      " 11  quality               1599 non-null   object \n",
      "dtypes: float64(11), object(1)\n",
      "memory usage: 150.0+ KB\n"
     ]
    }
   ],
   "source": [
    "df.info()"
   ]
  },
  {
   "cell_type": "markdown",
   "id": "17b582ec-8bef-4085-9364-e60e0080717b",
   "metadata": {},
   "source": [
    "# Q.4"
   ]
  },
  {
   "cell_type": "code",
   "execution_count": 10,
   "id": "861f3e0f-8108-4f1f-96ad-3fefec288d3c",
   "metadata": {},
   "outputs": [],
   "source": [
    "X = df.drop('quality',axis=1)\n",
    "y = df['quality']"
   ]
  },
  {
   "cell_type": "code",
   "execution_count": 11,
   "id": "4a7b2a96-6814-4ee7-9b88-dfb3c61693be",
   "metadata": {},
   "outputs": [],
   "source": [
    "y_map = {'bad':0,'good':1}\n",
    "y = y.map(y_map)"
   ]
  },
  {
   "cell_type": "markdown",
   "id": "410d17d1-2ae3-4983-abe6-09cd036cf6db",
   "metadata": {},
   "source": [
    "# Q.5"
   ]
  },
  {
   "cell_type": "code",
   "execution_count": 12,
   "id": "9939e408-b85f-402a-817b-5b0b4088dbe5",
   "metadata": {},
   "outputs": [],
   "source": [
    "\n",
    "from sklearn.model_selection import train_test_split\n",
    "x_train,x_temp,y_train,y_temp = train_test_split(X,y,test_size=.3,random_state=42)\n",
    "x_val,x_test,y_val,y_test = train_test_split(x_temp,y_temp,test_size=.5,random_state=42)"
   ]
  },
  {
   "cell_type": "markdown",
   "id": "147396ab-ec1b-4aac-bda4-a2482b3406a3",
   "metadata": {},
   "source": [
    "# Q.6"
   ]
  },
  {
   "cell_type": "code",
   "execution_count": 38,
   "id": "2d171b52-f4b5-42cf-8c12-fc03573598b6",
   "metadata": {},
   "outputs": [],
   "source": [
    "from sklearn.preprocessing import StandardScaler\n",
    "scaler = StandardScaler()\n",
    "x_train_scaled = scaler.fit_transform(x_train)\n",
    "x_val_scaled = scaler.transform(x_val)\n",
    "x_test_scaled= scaler.transform(x_test)"
   ]
  },
  {
   "cell_type": "markdown",
   "id": "1e58be89-cb11-4c7a-b7e7-034fa828db57",
   "metadata": {},
   "source": [
    "# Q.7"
   ]
  },
  {
   "cell_type": "code",
   "execution_count": 14,
   "id": "3bfcb802-d4bf-4db8-9237-5fe2e717ae8d",
   "metadata": {},
   "outputs": [
    {
     "name": "stderr",
     "output_type": "stream",
     "text": [
      "/opt/conda/lib/python3.10/site-packages/keras/src/layers/core/dense.py:87: UserWarning: Do not pass an `input_shape`/`input_dim` argument to a layer. When using Sequential models, prefer using an `Input(shape)` object as the first layer in the model instead.\n",
      "  super().__init__(activity_regularizer=activity_regularizer, **kwargs)\n"
     ]
    }
   ],
   "source": [
    "from tensorflow.keras.models import Sequential\n",
    "from tensorflow.keras.layers import Dense\n",
    "\n",
    "model = Sequential([\n",
    "    Dense(64,activation = 'relu',input_shape = (x_train.shape[1],)),\n",
    "    Dense(32,activation='relu'),\n",
    "    Dense(1,activation='sigmoid')\n",
    "    \n",
    "\n",
    "    ])"
   ]
  },
  {
   "cell_type": "markdown",
   "id": "25c84e23-15a7-4897-a0a4-acecf2f63059",
   "metadata": {},
   "source": [
    "# Q.8"
   ]
  },
  {
   "cell_type": "code",
   "execution_count": 15,
   "id": "60786446-f543-4122-a69f-30603afcd187",
   "metadata": {},
   "outputs": [],
   "source": [
    "model.add(Dense(64,activation = 'relu')),\n",
    "model.add(Dense(32,activation='relu')),\n",
    "model.add(Dense(1,activation='sigmoid'))"
   ]
  },
  {
   "cell_type": "markdown",
   "id": "82810bc9-fcf9-464c-a177-97f00f3d8c0c",
   "metadata": {},
   "source": [
    "# Q.9"
   ]
  },
  {
   "cell_type": "code",
   "execution_count": 16,
   "id": "409e4958-1075-423f-bcfe-620f983da5af",
   "metadata": {},
   "outputs": [],
   "source": [
    "from tensorflow.keras.callbacks import TensorBoard\n",
    "\n",
    "tensor_board  = TensorBoard(log_dir=\"./logs\")"
   ]
  },
  {
   "cell_type": "markdown",
   "id": "2d5ee4b5-9a25-4b3f-a023-63772301fde9",
   "metadata": {},
   "source": [
    "# Q.10"
   ]
  },
  {
   "cell_type": "code",
   "execution_count": 17,
   "id": "4320f7a8-66ee-48d5-8b33-b19a32496033",
   "metadata": {},
   "outputs": [],
   "source": [
    "from tensorflow.keras.callbacks import EarlyStopping\n",
    "\n",
    "early_stoping = EarlyStopping(monitor = 'val_loss',patience=3,restore_best_weights=True)"
   ]
  },
  {
   "cell_type": "markdown",
   "id": "f0a5b10f-bdb6-4261-8c26-1930759d0639",
   "metadata": {},
   "source": [
    "# Q.11"
   ]
  },
  {
   "cell_type": "code",
   "execution_count": 23,
   "id": "eda904db-838c-4fde-b88f-f8aa79368f1a",
   "metadata": {},
   "outputs": [],
   "source": [
    "from tensorflow.keras.callbacks import ModelCheckpoint\n",
    "\n",
    "check_point = ModelCheckpoint(filepath='best_mode.keras',monitor='val_accuracy',save_best_only = True)"
   ]
  },
  {
   "cell_type": "markdown",
   "id": "b9364752-9a60-4e24-994c-e4a37759e17e",
   "metadata": {},
   "source": [
    "# Q.12"
   ]
  },
  {
   "cell_type": "code",
   "execution_count": 24,
   "id": "248df4d8-44be-4fa2-9150-270f49871219",
   "metadata": {},
   "outputs": [
    {
     "data": {
      "text/html": [
       "<pre style=\"white-space:pre;overflow-x:auto;line-height:normal;font-family:Menlo,'DejaVu Sans Mono',consolas,'Courier New',monospace\"><span style=\"font-weight: bold\">Model: \"sequential\"</span>\n",
       "</pre>\n"
      ],
      "text/plain": [
       "\u001b[1mModel: \"sequential\"\u001b[0m\n"
      ]
     },
     "metadata": {},
     "output_type": "display_data"
    },
    {
     "data": {
      "text/html": [
       "<pre style=\"white-space:pre;overflow-x:auto;line-height:normal;font-family:Menlo,'DejaVu Sans Mono',consolas,'Courier New',monospace\">┏━━━━━━━━━━━━━━━━━━━━━━━━━━━━━━━━━┳━━━━━━━━━━━━━━━━━━━━━━━━┳━━━━━━━━━━━━━━━┓\n",
       "┃<span style=\"font-weight: bold\"> Layer (type)                    </span>┃<span style=\"font-weight: bold\"> Output Shape           </span>┃<span style=\"font-weight: bold\">       Param # </span>┃\n",
       "┡━━━━━━━━━━━━━━━━━━━━━━━━━━━━━━━━━╇━━━━━━━━━━━━━━━━━━━━━━━━╇━━━━━━━━━━━━━━━┩\n",
       "│ dense (<span style=\"color: #0087ff; text-decoration-color: #0087ff\">Dense</span>)                   │ (<span style=\"color: #00d7ff; text-decoration-color: #00d7ff\">None</span>, <span style=\"color: #00af00; text-decoration-color: #00af00\">64</span>)             │           <span style=\"color: #00af00; text-decoration-color: #00af00\">768</span> │\n",
       "├─────────────────────────────────┼────────────────────────┼───────────────┤\n",
       "│ dense_1 (<span style=\"color: #0087ff; text-decoration-color: #0087ff\">Dense</span>)                 │ (<span style=\"color: #00d7ff; text-decoration-color: #00d7ff\">None</span>, <span style=\"color: #00af00; text-decoration-color: #00af00\">32</span>)             │         <span style=\"color: #00af00; text-decoration-color: #00af00\">2,080</span> │\n",
       "├─────────────────────────────────┼────────────────────────┼───────────────┤\n",
       "│ dense_2 (<span style=\"color: #0087ff; text-decoration-color: #0087ff\">Dense</span>)                 │ (<span style=\"color: #00d7ff; text-decoration-color: #00d7ff\">None</span>, <span style=\"color: #00af00; text-decoration-color: #00af00\">1</span>)              │            <span style=\"color: #00af00; text-decoration-color: #00af00\">33</span> │\n",
       "├─────────────────────────────────┼────────────────────────┼───────────────┤\n",
       "│ dense_3 (<span style=\"color: #0087ff; text-decoration-color: #0087ff\">Dense</span>)                 │ (<span style=\"color: #00d7ff; text-decoration-color: #00d7ff\">None</span>, <span style=\"color: #00af00; text-decoration-color: #00af00\">64</span>)             │           <span style=\"color: #00af00; text-decoration-color: #00af00\">128</span> │\n",
       "├─────────────────────────────────┼────────────────────────┼───────────────┤\n",
       "│ dense_4 (<span style=\"color: #0087ff; text-decoration-color: #0087ff\">Dense</span>)                 │ (<span style=\"color: #00d7ff; text-decoration-color: #00d7ff\">None</span>, <span style=\"color: #00af00; text-decoration-color: #00af00\">32</span>)             │         <span style=\"color: #00af00; text-decoration-color: #00af00\">2,080</span> │\n",
       "├─────────────────────────────────┼────────────────────────┼───────────────┤\n",
       "│ dense_5 (<span style=\"color: #0087ff; text-decoration-color: #0087ff\">Dense</span>)                 │ (<span style=\"color: #00d7ff; text-decoration-color: #00d7ff\">None</span>, <span style=\"color: #00af00; text-decoration-color: #00af00\">1</span>)              │            <span style=\"color: #00af00; text-decoration-color: #00af00\">33</span> │\n",
       "└─────────────────────────────────┴────────────────────────┴───────────────┘\n",
       "</pre>\n"
      ],
      "text/plain": [
       "┏━━━━━━━━━━━━━━━━━━━━━━━━━━━━━━━━━┳━━━━━━━━━━━━━━━━━━━━━━━━┳━━━━━━━━━━━━━━━┓\n",
       "┃\u001b[1m \u001b[0m\u001b[1mLayer (type)                   \u001b[0m\u001b[1m \u001b[0m┃\u001b[1m \u001b[0m\u001b[1mOutput Shape          \u001b[0m\u001b[1m \u001b[0m┃\u001b[1m \u001b[0m\u001b[1m      Param #\u001b[0m\u001b[1m \u001b[0m┃\n",
       "┡━━━━━━━━━━━━━━━━━━━━━━━━━━━━━━━━━╇━━━━━━━━━━━━━━━━━━━━━━━━╇━━━━━━━━━━━━━━━┩\n",
       "│ dense (\u001b[38;5;33mDense\u001b[0m)                   │ (\u001b[38;5;45mNone\u001b[0m, \u001b[38;5;34m64\u001b[0m)             │           \u001b[38;5;34m768\u001b[0m │\n",
       "├─────────────────────────────────┼────────────────────────┼───────────────┤\n",
       "│ dense_1 (\u001b[38;5;33mDense\u001b[0m)                 │ (\u001b[38;5;45mNone\u001b[0m, \u001b[38;5;34m32\u001b[0m)             │         \u001b[38;5;34m2,080\u001b[0m │\n",
       "├─────────────────────────────────┼────────────────────────┼───────────────┤\n",
       "│ dense_2 (\u001b[38;5;33mDense\u001b[0m)                 │ (\u001b[38;5;45mNone\u001b[0m, \u001b[38;5;34m1\u001b[0m)              │            \u001b[38;5;34m33\u001b[0m │\n",
       "├─────────────────────────────────┼────────────────────────┼───────────────┤\n",
       "│ dense_3 (\u001b[38;5;33mDense\u001b[0m)                 │ (\u001b[38;5;45mNone\u001b[0m, \u001b[38;5;34m64\u001b[0m)             │           \u001b[38;5;34m128\u001b[0m │\n",
       "├─────────────────────────────────┼────────────────────────┼───────────────┤\n",
       "│ dense_4 (\u001b[38;5;33mDense\u001b[0m)                 │ (\u001b[38;5;45mNone\u001b[0m, \u001b[38;5;34m32\u001b[0m)             │         \u001b[38;5;34m2,080\u001b[0m │\n",
       "├─────────────────────────────────┼────────────────────────┼───────────────┤\n",
       "│ dense_5 (\u001b[38;5;33mDense\u001b[0m)                 │ (\u001b[38;5;45mNone\u001b[0m, \u001b[38;5;34m1\u001b[0m)              │            \u001b[38;5;34m33\u001b[0m │\n",
       "└─────────────────────────────────┴────────────────────────┴───────────────┘\n"
      ]
     },
     "metadata": {},
     "output_type": "display_data"
    },
    {
     "data": {
      "text/html": [
       "<pre style=\"white-space:pre;overflow-x:auto;line-height:normal;font-family:Menlo,'DejaVu Sans Mono',consolas,'Courier New',monospace\"><span style=\"font-weight: bold\"> Total params: </span><span style=\"color: #00af00; text-decoration-color: #00af00\">5,122</span> (20.01 KB)\n",
       "</pre>\n"
      ],
      "text/plain": [
       "\u001b[1m Total params: \u001b[0m\u001b[38;5;34m5,122\u001b[0m (20.01 KB)\n"
      ]
     },
     "metadata": {},
     "output_type": "display_data"
    },
    {
     "data": {
      "text/html": [
       "<pre style=\"white-space:pre;overflow-x:auto;line-height:normal;font-family:Menlo,'DejaVu Sans Mono',consolas,'Courier New',monospace\"><span style=\"font-weight: bold\"> Trainable params: </span><span style=\"color: #00af00; text-decoration-color: #00af00\">5,122</span> (20.01 KB)\n",
       "</pre>\n"
      ],
      "text/plain": [
       "\u001b[1m Trainable params: \u001b[0m\u001b[38;5;34m5,122\u001b[0m (20.01 KB)\n"
      ]
     },
     "metadata": {},
     "output_type": "display_data"
    },
    {
     "data": {
      "text/html": [
       "<pre style=\"white-space:pre;overflow-x:auto;line-height:normal;font-family:Menlo,'DejaVu Sans Mono',consolas,'Courier New',monospace\"><span style=\"font-weight: bold\"> Non-trainable params: </span><span style=\"color: #00af00; text-decoration-color: #00af00\">0</span> (0.00 B)\n",
       "</pre>\n"
      ],
      "text/plain": [
       "\u001b[1m Non-trainable params: \u001b[0m\u001b[38;5;34m0\u001b[0m (0.00 B)\n"
      ]
     },
     "metadata": {},
     "output_type": "display_data"
    }
   ],
   "source": [
    "model.summary()"
   ]
  },
  {
   "cell_type": "markdown",
   "id": "8b4ee50d-51e3-4518-95aa-146a5d1a7fb5",
   "metadata": {},
   "source": [
    "# Q.13"
   ]
  },
  {
   "cell_type": "code",
   "execution_count": 28,
   "id": "50ecb168-bd6f-4e54-b4c8-9840ab32e956",
   "metadata": {},
   "outputs": [],
   "source": [
    "model.compile(loss='binary_crossentropy',optimizer='adam',metrics=['accuracy'])"
   ]
  },
  {
   "cell_type": "markdown",
   "id": "4915ff87-f097-4b31-8e53-5d13af489486",
   "metadata": {},
   "source": [
    "# Q.15"
   ]
  },
  {
   "cell_type": "code",
   "execution_count": 29,
   "id": "5222e6bf-eefa-4a03-b0b0-499ec0dd9858",
   "metadata": {},
   "outputs": [
    {
     "name": "stdout",
     "output_type": "stream",
     "text": [
      "Epoch 1/10\n",
      "\u001b[1m35/35\u001b[0m \u001b[32m━━━━━━━━━━━━━━━━━━━━\u001b[0m\u001b[37m\u001b[0m \u001b[1m3s\u001b[0m 12ms/step - accuracy: 0.5338 - loss: 0.6899 - val_accuracy: 0.5708 - val_loss: 0.6711\n",
      "Epoch 2/10\n",
      "\u001b[1m35/35\u001b[0m \u001b[32m━━━━━━━━━━━━━━━━━━━━\u001b[0m\u001b[37m\u001b[0m \u001b[1m0s\u001b[0m 5ms/step - accuracy: 0.5465 - loss: 0.6650 - val_accuracy: 0.7000 - val_loss: 0.6297\n",
      "Epoch 3/10\n",
      "\u001b[1m35/35\u001b[0m \u001b[32m━━━━━━━━━━━━━━━━━━━━\u001b[0m\u001b[37m\u001b[0m \u001b[1m0s\u001b[0m 4ms/step - accuracy: 0.7249 - loss: 0.6116 - val_accuracy: 0.6833 - val_loss: 0.5968\n",
      "Epoch 4/10\n",
      "\u001b[1m35/35\u001b[0m \u001b[32m━━━━━━━━━━━━━━━━━━━━\u001b[0m\u001b[37m\u001b[0m \u001b[1m0s\u001b[0m 4ms/step - accuracy: 0.7652 - loss: 0.5593 - val_accuracy: 0.6792 - val_loss: 0.5895\n",
      "Epoch 5/10\n",
      "\u001b[1m35/35\u001b[0m \u001b[32m━━━━━━━━━━━━━━━━━━━━\u001b[0m\u001b[37m\u001b[0m \u001b[1m0s\u001b[0m 4ms/step - accuracy: 0.7497 - loss: 0.5279 - val_accuracy: 0.6583 - val_loss: 0.5861\n",
      "Epoch 6/10\n",
      "\u001b[1m35/35\u001b[0m \u001b[32m━━━━━━━━━━━━━━━━━━━━\u001b[0m\u001b[37m\u001b[0m \u001b[1m0s\u001b[0m 4ms/step - accuracy: 0.7610 - loss: 0.5072 - val_accuracy: 0.6750 - val_loss: 0.5770\n",
      "Epoch 7/10\n",
      "\u001b[1m35/35\u001b[0m \u001b[32m━━━━━━━━━━━━━━━━━━━━\u001b[0m\u001b[37m\u001b[0m \u001b[1m0s\u001b[0m 4ms/step - accuracy: 0.7781 - loss: 0.4831 - val_accuracy: 0.6833 - val_loss: 0.5726\n",
      "Epoch 8/10\n",
      "\u001b[1m35/35\u001b[0m \u001b[32m━━━━━━━━━━━━━━━━━━━━\u001b[0m\u001b[37m\u001b[0m \u001b[1m0s\u001b[0m 3ms/step - accuracy: 0.7905 - loss: 0.4714 - val_accuracy: 0.6792 - val_loss: 0.5854\n",
      "Epoch 9/10\n",
      "\u001b[1m35/35\u001b[0m \u001b[32m━━━━━━━━━━━━━━━━━━━━\u001b[0m\u001b[37m\u001b[0m \u001b[1m0s\u001b[0m 4ms/step - accuracy: 0.7598 - loss: 0.4913 - val_accuracy: 0.6833 - val_loss: 0.5783\n",
      "Epoch 10/10\n",
      "\u001b[1m35/35\u001b[0m \u001b[32m━━━━━━━━━━━━━━━━━━━━\u001b[0m\u001b[37m\u001b[0m \u001b[1m0s\u001b[0m 4ms/step - accuracy: 0.7647 - loss: 0.5012 - val_accuracy: 0.6875 - val_loss: 0.5829\n"
     ]
    }
   ],
   "source": [
    "history = model.fit(x_train_scaled,y_train,epochs=10,validation_data = (x_val_scaled,y_val),batch_size = 32,callbacks = [tensor_board,early_stoping,check_point])"
   ]
  },
  {
   "cell_type": "markdown",
   "id": "2715d49b-54d1-449f-9051-f34cc9e33e56",
   "metadata": {},
   "source": [
    "# Q.16"
   ]
  },
  {
   "cell_type": "code",
   "execution_count": 31,
   "id": "948ed22a-8ac6-4667-bd51-237c1f3a014f",
   "metadata": {},
   "outputs": [
    {
     "data": {
      "text/plain": [
       "[array([[ 0.04436805,  0.12223002, -0.04142764, -0.26286718, -0.0196603 ,\n",
       "          0.30398855, -0.22366126, -0.02146187, -0.19990839,  0.03378095,\n",
       "          0.23393826, -0.04761051,  0.21688162,  0.0755912 ,  0.2282314 ,\n",
       "         -0.1704383 , -0.02975424, -0.04262805,  0.14273737,  0.24721962,\n",
       "          0.21139966,  0.19480577, -0.3284575 , -0.03618157,  0.17393601,\n",
       "         -0.15404032,  0.1889669 , -0.03422814, -0.22091079,  0.02025316,\n",
       "          0.13218664,  0.08670738, -0.02399378,  0.07468025, -0.2844787 ,\n",
       "         -0.02709685,  0.21793199, -0.12359817,  0.11903125, -0.14729448,\n",
       "         -0.34042197,  0.11171588,  0.01231409, -0.1096743 ,  0.1213458 ,\n",
       "          0.05094447,  0.2192728 ,  0.0931363 ,  0.08426061, -0.06114504,\n",
       "         -0.25489202,  0.19509123, -0.07685442, -0.12632373,  0.22809541,\n",
       "         -0.03638024, -0.21819407,  0.10114504,  0.15623549,  0.25932747,\n",
       "         -0.19009273, -0.23266062, -0.11270463, -0.12622625],\n",
       "        [ 0.21594296,  0.12729993, -0.15940563, -0.03894768, -0.02079731,\n",
       "         -0.18977135,  0.21155992, -0.13744904,  0.30371153,  0.21765286,\n",
       "         -0.1438849 , -0.16970757, -0.25005835,  0.0735489 ,  0.03624804,\n",
       "          0.00237391, -0.08495025, -0.16642894, -0.0320617 ,  0.27335346,\n",
       "         -0.11414269, -0.10998855, -0.1420198 ,  0.35513863, -0.12334148,\n",
       "         -0.05360115,  0.12413497, -0.10416326,  0.20046036, -0.16766727,\n",
       "         -0.22472799, -0.05340704,  0.2943936 , -0.2590573 , -0.15834273,\n",
       "          0.21821316, -0.10485649,  0.09109311, -0.01208015, -0.3579925 ,\n",
       "          0.3468947 ,  0.02366625, -0.08181448,  0.06977297,  0.2769054 ,\n",
       "          0.19826998,  0.20470455, -0.0554013 , -0.14026387,  0.24856763,\n",
       "         -0.07652551, -0.03889027,  0.03691889,  0.16977568,  0.23748194,\n",
       "          0.05824941, -0.04527851,  0.27327815,  0.00228467,  0.01940719,\n",
       "          0.15814508, -0.1410699 , -0.17786197,  0.1024603 ],\n",
       "        [-0.08007994,  0.16988434,  0.2617164 , -0.10128068, -0.16273502,\n",
       "         -0.08563236, -0.23747607,  0.09033138, -0.15177657, -0.05369394,\n",
       "         -0.05525291,  0.24490426,  0.10739459,  0.02482388,  0.32836032,\n",
       "         -0.02109601,  0.23605749, -0.13100988,  0.0325182 ,  0.2964942 ,\n",
       "         -0.05765578,  0.10959338, -0.18906057, -0.18041834, -0.3166609 ,\n",
       "         -0.1645265 , -0.05937433, -0.21773517, -0.14476542, -0.08968296,\n",
       "          0.13581641, -0.22000022,  0.02585528,  0.1436832 , -0.05573195,\n",
       "          0.11597913, -0.13420781,  0.02576089,  0.28732845, -0.25045538,\n",
       "         -0.02665595,  0.03963708, -0.05823036,  0.18400352,  0.1224755 ,\n",
       "          0.12691042, -0.07683279,  0.28305498,  0.04506891,  0.21065491,\n",
       "          0.22312573,  0.2694619 , -0.24208467,  0.20440759, -0.029983  ,\n",
       "         -0.12073776, -0.04722403,  0.09320235,  0.01888255, -0.19672206,\n",
       "         -0.10614107,  0.03024473, -0.22922216, -0.18259661],\n",
       "        [-0.10580006, -0.12409479, -0.11652886,  0.2035742 , -0.05748952,\n",
       "         -0.09985396,  0.05095112, -0.14386295,  0.18981493,  0.10588954,\n",
       "         -0.06472768,  0.04960332,  0.23095354, -0.12119141, -0.32167906,\n",
       "         -0.25940803,  0.18534148, -0.12587042,  0.14599629,  0.01232834,\n",
       "         -0.24624154,  0.13581371, -0.00216755,  0.13041563,  0.1263779 ,\n",
       "         -0.20629896, -0.2689157 , -0.1462453 , -0.0075    , -0.2295949 ,\n",
       "          0.07128681,  0.07331646,  0.15414695, -0.12339999,  0.1253567 ,\n",
       "          0.04296354,  0.24834532, -0.30242482, -0.1407366 ,  0.06757365,\n",
       "         -0.13499552, -0.02867077, -0.32362404, -0.09095529, -0.19254968,\n",
       "          0.10537057,  0.3147909 ,  0.00467786, -0.2349491 , -0.17924951,\n",
       "          0.08697035, -0.15554644,  0.20389248,  0.27524155,  0.11058503,\n",
       "         -0.10466713,  0.21296118,  0.26169726,  0.1377947 , -0.26953545,\n",
       "          0.00678156, -0.05265082,  0.06135972, -0.22651273],\n",
       "        [ 0.1408733 ,  0.21084404,  0.16470325,  0.14849387, -0.19503257,\n",
       "          0.25372994, -0.06850057, -0.05701319, -0.21579216, -0.22315493,\n",
       "          0.02271611, -0.18936   ,  0.12313222,  0.24413016, -0.21631673,\n",
       "         -0.25133908,  0.06545589, -0.35025313, -0.22567473, -0.09876183,\n",
       "         -0.09313082,  0.27496958, -0.11620804, -0.18318251,  0.18621463,\n",
       "         -0.2518736 ,  0.17070429,  0.2709552 , -0.21176031,  0.04609189,\n",
       "          0.21608607, -0.20402151,  0.26198566, -0.00487172, -0.21026203,\n",
       "         -0.23363082, -0.05878409,  0.25665098,  0.05348651, -0.27365887,\n",
       "         -0.0733096 ,  0.29609886, -0.0008829 , -0.00116055,  0.05410102,\n",
       "          0.06345063,  0.06010673,  0.13590658, -0.16784784,  0.02408706,\n",
       "          0.02012576, -0.314231  ,  0.1687129 , -0.17114674,  0.21510665,\n",
       "         -0.15442766,  0.2695662 , -0.12037784, -0.07740946,  0.06590401,\n",
       "         -0.2417795 ,  0.32288256, -0.12485167, -0.09921187],\n",
       "        [ 0.19857438, -0.08522388,  0.14330849, -0.03687553, -0.2930062 ,\n",
       "          0.1160714 , -0.30598226, -0.18133378,  0.06024322,  0.22268206,\n",
       "         -0.16283463, -0.11210047,  0.08879723, -0.1476156 ,  0.2467395 ,\n",
       "          0.09723614, -0.13174418,  0.14603294, -0.21435949, -0.20368895,\n",
       "         -0.12718986, -0.02692801, -0.1425801 ,  0.26409233,  0.2087404 ,\n",
       "          0.23862082, -0.11788318,  0.20023146, -0.08607786, -0.0633062 ,\n",
       "         -0.13362487,  0.09436136,  0.11497782,  0.12473488,  0.15175074,\n",
       "         -0.14002298,  0.00079409,  0.01137975, -0.10686598, -0.24441683,\n",
       "         -0.18729353, -0.08780948, -0.29911608, -0.13257003,  0.03322321,\n",
       "         -0.08601768, -0.03058188,  0.05102894, -0.20621008, -0.07407193,\n",
       "         -0.19075541,  0.15267944,  0.19136156, -0.20584878,  0.0597583 ,\n",
       "          0.30307874,  0.10419448,  0.14552353,  0.18453802,  0.26532868,\n",
       "          0.2631359 , -0.158372  , -0.0133766 ,  0.22716168],\n",
       "        [-0.2095655 , -0.20314224, -0.09231364,  0.32921913, -0.22190647,\n",
       "         -0.20240477,  0.3308528 ,  0.31642348,  0.05121569, -0.28975642,\n",
       "         -0.27474537, -0.19343454,  0.16387086,  0.18510844, -0.16825719,\n",
       "         -0.25710043, -0.1165015 , -0.29857197,  0.25458923,  0.23317303,\n",
       "          0.1770719 , -0.13920921,  0.04958117, -0.1505571 ,  0.01176449,\n",
       "         -0.23659718,  0.06368133, -0.22420174, -0.07226063, -0.07803427,\n",
       "          0.00296591,  0.1646219 ,  0.27868056,  0.08700357,  0.2099775 ,\n",
       "         -0.00815536,  0.17958705,  0.11588765,  0.10695285,  0.07275502,\n",
       "          0.31789303,  0.09261248, -0.04459372, -0.09596358, -0.14992253,\n",
       "         -0.20790218,  0.3224966 ,  0.06763158,  0.24936908, -0.09169713,\n",
       "         -0.11811907,  0.08297146, -0.09368433, -0.21677728,  0.04862538,\n",
       "          0.34550542,  0.17128873, -0.09496175, -0.1652004 ,  0.20847337,\n",
       "         -0.18276742,  0.21281378, -0.16282809,  0.21185048],\n",
       "        [ 0.11859521,  0.25248626,  0.05442806,  0.11116572,  0.11880507,\n",
       "          0.14141291,  0.19404793, -0.0282973 ,  0.04502987,  0.22618113,\n",
       "          0.16551489,  0.20683675,  0.09440982,  0.19498797, -0.02596957,\n",
       "         -0.12555838,  0.02584435, -0.2258135 , -0.14573406, -0.2716493 ,\n",
       "          0.23808238, -0.08366172, -0.3141104 , -0.02761597, -0.2060092 ,\n",
       "          0.10605   , -0.17021635,  0.21733429,  0.15679578,  0.18580465,\n",
       "          0.11380347,  0.21449198, -0.15325655, -0.18285513,  0.17094728,\n",
       "         -0.1135831 , -0.14099829, -0.00095642, -0.16595195, -0.3564947 ,\n",
       "          0.25543734, -0.1609318 , -0.09939873, -0.03092255, -0.02933808,\n",
       "         -0.05581131, -0.13173117, -0.11213164, -0.01654786, -0.15809503,\n",
       "          0.1420342 , -0.20838483, -0.09968027, -0.31232366, -0.1202128 ,\n",
       "         -0.07233432, -0.22725943,  0.28962916,  0.08166123,  0.2572268 ,\n",
       "         -0.0916748 ,  0.10901801, -0.01193391,  0.26617348],\n",
       "        [-0.04570357, -0.14664486, -0.09746969, -0.16479631,  0.23921664,\n",
       "         -0.2711591 , -0.0798692 ,  0.29495397,  0.19523588,  0.00092177,\n",
       "          0.07791828, -0.011666  ,  0.19798431, -0.15116227,  0.00864623,\n",
       "         -0.0371616 ,  0.13390265,  0.21297614, -0.13837454,  0.00390263,\n",
       "         -0.2744215 ,  0.09288043,  0.1211826 ,  0.00312605, -0.03405192,\n",
       "         -0.17428611,  0.2743207 , -0.18948853, -0.03976538,  0.21555157,\n",
       "         -0.17476378, -0.01923332,  0.1975145 , -0.22433388, -0.1894665 ,\n",
       "         -0.02107277,  0.07972799,  0.00450478,  0.22519192,  0.15570483,\n",
       "         -0.30506766,  0.20983197,  0.19978072,  0.14779882,  0.15255612,\n",
       "          0.22339313, -0.06711629,  0.02799411,  0.25811914, -0.02621894,\n",
       "         -0.1074711 , -0.1868277 , -0.18918864, -0.00704793, -0.03275441,\n",
       "         -0.11156654, -0.17635533,  0.27665707,  0.10886473, -0.0943928 ,\n",
       "          0.23441687,  0.0475833 , -0.19604403, -0.24027978],\n",
       "        [ 0.14628592, -0.34568372,  0.04456534, -0.22685777, -0.15930475,\n",
       "          0.04702036, -0.10724927, -0.04290025, -0.36773017, -0.37712896,\n",
       "          0.0582974 ,  0.14859536, -0.08956382,  0.26220015,  0.19968355,\n",
       "         -0.12031229,  0.19965665,  0.16082764,  0.12222964, -0.26773617,\n",
       "         -0.09383673, -0.1537448 , -0.29037267,  0.06624772, -0.21663307,\n",
       "          0.1770657 , -0.15592569, -0.3056576 , -0.17897016, -0.28963318,\n",
       "         -0.26180914, -0.37933466,  0.17866233, -0.06296101, -0.13247779,\n",
       "         -0.43663123,  0.2355522 ,  0.08873726,  0.19999315,  0.10677665,\n",
       "          0.15895297, -0.13273573, -0.40048772, -0.3557257 ,  0.08692423,\n",
       "          0.11268508, -0.20848218,  0.25272784, -0.31759343,  0.07477678,\n",
       "         -0.13388804,  0.071209  , -0.32478124, -0.00276199, -0.33756346,\n",
       "          0.3085976 ,  0.08525888, -0.29865146, -0.32455337,  0.02715647,\n",
       "          0.2662948 ,  0.03122077,  0.15885115,  0.01069719],\n",
       "        [ 0.28395367, -0.1064957 , -0.17928693, -0.31054458, -0.07697648,\n",
       "          0.31436184, -0.0053175 , -0.01858942,  0.17411314, -0.00668059,\n",
       "          0.1704947 ,  0.08355212,  0.30262867, -0.00462253,  0.01891948,\n",
       "          0.24337837,  0.14961348,  0.02749901, -0.26844248,  0.14327212,\n",
       "          0.36625728, -0.23573062,  0.05114067,  0.24389489, -0.04340383,\n",
       "          0.2822574 ,  0.01957126,  0.04485554, -0.05113023, -0.05946779,\n",
       "         -0.2864853 , -0.33401442, -0.14877217,  0.04297695, -0.18652727,\n",
       "         -0.18191537,  0.35180187, -0.07730231,  0.04919884,  0.04975383,\n",
       "         -0.0988363 ,  0.0756157 , -0.03038183, -0.17000464,  0.07527763,\n",
       "          0.31674692, -0.15103795, -0.17397457, -0.11940148, -0.07128099,\n",
       "         -0.00863187,  0.11724646, -0.38447812, -0.01723658, -0.2378179 ,\n",
       "         -0.01506309,  0.08162725, -0.04972378, -0.17537713, -0.18964957,\n",
       "          0.27213487,  0.25097317,  0.06889687, -0.0038543 ]],\n",
       "       dtype=float32),\n",
       " array([ 0.03192352,  0.03799485,  0.048441  ,  0.06126421,  0.01962977,\n",
       "         0.05445005,  0.03810649,  0.03904051, -0.02681591,  0.03193918,\n",
       "         0.0618399 ,  0.00295136,  0.02328866,  0.01759559,  0.07088952,\n",
       "         0.00459705, -0.02430518,  0.05551693,  0.02857791,  0.09284469,\n",
       "         0.02072848, -0.05147582,  0.07751837,  0.01003563,  0.03295076,\n",
       "         0.08433603, -0.02711265, -0.01888261, -0.08136524,  0.02467297,\n",
       "         0.02892994,  0.06580593,  0.00451075,  0.02126349, -0.00987969,\n",
       "         0.06093251,  0.07173571, -0.03911448, -0.02521498,  0.10219341,\n",
       "         0.03562504, -0.08794472,  0.083858  ,  0.05344551, -0.04012553,\n",
       "        -0.01401215, -0.01393854, -0.01332362,  0.03390151, -0.07743304,\n",
       "        -0.04291538,  0.06012954,  0.01493078, -0.00667618,  0.04123601,\n",
       "         0.05778626, -0.0278179 ,  0.0834024 ,  0.00699271,  0.0283108 ,\n",
       "         0.0374545 , -0.08761887,  0.05365722,  0.02226709], dtype=float32),\n",
       " array([[ 0.02796391, -0.05107402,  0.03689082, ..., -0.20328705,\n",
       "          0.23638368,  0.068797  ],\n",
       "        [-0.05661778,  0.10898624,  0.09266488, ...,  0.21990827,\n",
       "         -0.17202607,  0.16529463],\n",
       "        [-0.00427589, -0.05017771,  0.10999519, ...,  0.15167284,\n",
       "          0.12898684, -0.06034037],\n",
       "        ...,\n",
       "        [ 0.05506409, -0.11740949, -0.02818665, ...,  0.15705472,\n",
       "          0.1828943 ,  0.17412789],\n",
       "        [ 0.33319783, -0.20851234, -0.160574  , ..., -0.1944228 ,\n",
       "          0.12894928, -0.20853549],\n",
       "        [ 0.1468507 ,  0.06881472,  0.19537698, ..., -0.044796  ,\n",
       "          0.04849126, -0.00713596]], dtype=float32),\n",
       " array([ 0.06549456, -0.02422835,  0.00882275,  0.03254851,  0.06141759,\n",
       "        -0.06655381,  0.02190975,  0.0270656 ,  0.03158069,  0.00542023,\n",
       "         0.0763838 , -0.01030694,  0.04592396,  0.00524001,  0.0453256 ,\n",
       "         0.0542522 ,  0.07233994,  0.04860079,  0.03502674,  0.02467464,\n",
       "         0.04332791,  0.03163338,  0.0090641 ,  0.03526393,  0.05021106,\n",
       "        -0.03407236,  0.04523078,  0.05852076, -0.02510297,  0.06237229,\n",
       "         0.05471488, -0.04096375], dtype=float32),\n",
       " array([[ 0.10667041],\n",
       "        [-0.262569  ],\n",
       "        [-0.20241095],\n",
       "        [ 0.03034012],\n",
       "        [ 0.3975282 ],\n",
       "        [-0.08452072],\n",
       "        [ 0.19314755],\n",
       "        [-0.2207024 ],\n",
       "        [-0.47229233],\n",
       "        [-0.4755848 ],\n",
       "        [ 0.37715113],\n",
       "        [-0.07354353],\n",
       "        [-0.38845918],\n",
       "        [-0.22550435],\n",
       "        [ 0.34921688],\n",
       "        [ 0.29651567],\n",
       "        [ 0.12774791],\n",
       "        [-0.5249174 ],\n",
       "        [ 0.10024479],\n",
       "        [ 0.17409581],\n",
       "        [ 0.09220477],\n",
       "        [-0.373085  ],\n",
       "        [-0.19995944],\n",
       "        [-0.28864613],\n",
       "        [ 0.41025138],\n",
       "        [-0.1381174 ],\n",
       "        [-0.37047675],\n",
       "        [ 0.15642086],\n",
       "        [-0.2935972 ],\n",
       "        [-0.36392662],\n",
       "        [ 0.19607943],\n",
       "        [-0.3379276 ]], dtype=float32),\n",
       " array([0.04690927], dtype=float32),\n",
       " array([[ 3.82891238e-01,  2.44943261e-01, -1.79367959e-02,\n",
       "          3.52521896e-01, -9.21134055e-02, -2.32562065e-01,\n",
       "          1.84324458e-01,  3.82324070e-01,  3.22005302e-01,\n",
       "          1.85807049e-01,  3.59845936e-01, -2.23420545e-01,\n",
       "          3.35962832e-01,  3.97021502e-01, -1.29814506e-01,\n",
       "          1.33485287e-01, -1.03319228e-01, -1.67165577e-01,\n",
       "          3.63725305e-01,  2.10069746e-01, -7.20462203e-03,\n",
       "         -2.47649342e-01,  6.98843151e-02,  7.88658559e-02,\n",
       "         -1.24838606e-01,  1.49724290e-01, -2.19812393e-01,\n",
       "          2.58728862e-01, -2.61170805e-01,  2.45348185e-01,\n",
       "          1.59841835e-01,  2.53410310e-01, -1.23919383e-01,\n",
       "         -3.02091420e-01, -1.89791992e-01, -2.74739385e-01,\n",
       "         -1.93947256e-01, -2.67380029e-01,  2.34997675e-01,\n",
       "          2.92237908e-01, -2.56841719e-01,  1.63253203e-01,\n",
       "          1.72633752e-01,  1.28126681e-01, -1.99636817e-03,\n",
       "         -1.97985604e-01,  3.80117923e-01, -2.31393307e-01,\n",
       "          2.35758707e-01, -1.40815973e-04,  3.27516615e-01,\n",
       "          3.04071397e-01, -1.35465950e-01, -2.89551318e-01,\n",
       "          4.08269227e-01,  3.29450548e-01,  1.06795229e-01,\n",
       "          3.53612006e-03,  2.69473135e-01, -3.14878225e-02,\n",
       "          3.11823003e-02,  2.33963966e-01, -1.09272093e-01,\n",
       "          3.30801576e-01]], dtype=float32),\n",
       " array([-0.00446211, -0.00428907,  0.        ,  0.12090943,  0.        ,\n",
       "         0.        , -0.00493377, -0.00464163, -0.00551033, -0.032742  ,\n",
       "        -0.00446378,  0.        , -0.00438217, -0.00487269,  0.        ,\n",
       "         0.17940469,  0.        ,  0.        , -0.00517991,  0.02015875,\n",
       "         0.        ,  0.        , -0.01706452, -0.02311639,  0.        ,\n",
       "        -0.00417764,  0.        ,  0.1889325 ,  0.        , -0.00435102,\n",
       "         0.21508357, -0.00502595,  0.        ,  0.        ,  0.        ,\n",
       "         0.        ,  0.        ,  0.        , -0.00605276, -0.00432543,\n",
       "         0.        , -0.00449791, -0.00528708, -0.01510631,  0.        ,\n",
       "         0.        , -0.00340618,  0.        , -0.00500117,  0.        ,\n",
       "        -0.00388205, -0.00514932,  0.        ,  0.        , -0.00401113,\n",
       "        -0.00471433, -0.00466677, -0.01125547, -0.00318702,  0.        ,\n",
       "         0.21416399, -0.00410023,  0.        , -0.00458022], dtype=float32),\n",
       " array([[-0.04778834, -0.0080024 ,  0.05561721, ..., -0.05081017,\n",
       "          0.33382213,  0.18494153],\n",
       "        [-0.04383509,  0.20933473,  0.03439859, ..., -0.18401001,\n",
       "          0.05089807, -0.09100254],\n",
       "        [-0.22782815,  0.19543529,  0.19560373, ...,  0.10460401,\n",
       "         -0.21773851,  0.03580916],\n",
       "        ...,\n",
       "        [ 0.22504802, -0.02478302,  0.22086954, ...,  0.15498058,\n",
       "          0.05237893, -0.09931205],\n",
       "        [-0.13592947, -0.22032386, -0.14798659, ..., -0.20444047,\n",
       "         -0.01790583, -0.16337925],\n",
       "        [-0.14574856,  0.01928812,  0.16306083, ...,  0.06122825,\n",
       "          0.30298823,  0.0147369 ]], dtype=float32),\n",
       " array([-0.00656094,  0.        , -0.01489995, -0.02736756,  0.        ,\n",
       "         0.        ,  0.        ,  0.        ,  0.13907216,  0.        ,\n",
       "        -0.01926465, -0.03120266, -0.00452455, -0.0103798 ,  0.16791287,\n",
       "        -0.01150042,  0.17285825,  0.        ,  0.12777272,  0.0136781 ,\n",
       "        -0.01401933,  0.16794659, -0.04375452, -0.01242156, -0.0059997 ,\n",
       "        -0.06802809, -0.00795036, -0.01512328,  0.18859087,  0.17258967,\n",
       "        -0.09549007, -0.01322635], dtype=float32),\n",
       " array([[-0.40308335],\n",
       "        [-0.17325193],\n",
       "        [-0.18704788],\n",
       "        [ 0.3691346 ],\n",
       "        [ 0.25296867],\n",
       "        [-0.22555092],\n",
       "        [-0.1425209 ],\n",
       "        [-0.3182499 ],\n",
       "        [-0.38159496],\n",
       "        [-0.31415355],\n",
       "        [-0.02565699],\n",
       "        [ 0.21555564],\n",
       "        [ 0.03462223],\n",
       "        [-0.23937348],\n",
       "        [-0.44522208],\n",
       "        [-0.0010047 ],\n",
       "        [-0.35205227],\n",
       "        [ 0.00784209],\n",
       "        [-0.4088357 ],\n",
       "        [ 0.49019298],\n",
       "        [-0.18989025],\n",
       "        [-0.39113504],\n",
       "        [ 0.1748308 ],\n",
       "        [-0.16643842],\n",
       "        [-0.10380565],\n",
       "        [ 0.45398048],\n",
       "        [-0.26331443],\n",
       "        [-0.11511537],\n",
       "        [-0.27067572],\n",
       "        [-0.38069665],\n",
       "        [ 0.5033128 ],\n",
       "        [-0.00672549]], dtype=float32),\n",
       " array([-0.08688834], dtype=float32)]"
      ]
     },
     "execution_count": 31,
     "metadata": {},
     "output_type": "execute_result"
    }
   ],
   "source": [
    "model.get_weights()"
   ]
  },
  {
   "cell_type": "markdown",
   "id": "c89ac666-cc22-46aa-8c60-417b19c0a6a0",
   "metadata": {},
   "source": [
    "# Q.17"
   ]
  },
  {
   "cell_type": "code",
   "execution_count": 32,
   "id": "b9903ebf-2311-4a77-ad57-cebce81472e3",
   "metadata": {},
   "outputs": [],
   "source": [
    "model_frame = pd.DataFrame(history.history)"
   ]
  },
  {
   "cell_type": "code",
   "execution_count": 33,
   "id": "11c4e105-c4cf-4127-8826-2c4eff8459d1",
   "metadata": {},
   "outputs": [
    {
     "data": {
      "text/html": [
       "<div>\n",
       "<style scoped>\n",
       "    .dataframe tbody tr th:only-of-type {\n",
       "        vertical-align: middle;\n",
       "    }\n",
       "\n",
       "    .dataframe tbody tr th {\n",
       "        vertical-align: top;\n",
       "    }\n",
       "\n",
       "    .dataframe thead th {\n",
       "        text-align: right;\n",
       "    }\n",
       "</style>\n",
       "<table border=\"1\" class=\"dataframe\">\n",
       "  <thead>\n",
       "    <tr style=\"text-align: right;\">\n",
       "      <th></th>\n",
       "      <th>accuracy</th>\n",
       "      <th>loss</th>\n",
       "      <th>val_accuracy</th>\n",
       "      <th>val_loss</th>\n",
       "    </tr>\n",
       "  </thead>\n",
       "  <tbody>\n",
       "    <tr>\n",
       "      <th>0</th>\n",
       "      <td>0.525469</td>\n",
       "      <td>0.686611</td>\n",
       "      <td>0.570833</td>\n",
       "      <td>0.671053</td>\n",
       "    </tr>\n",
       "    <tr>\n",
       "      <th>1</th>\n",
       "      <td>0.573727</td>\n",
       "      <td>0.653536</td>\n",
       "      <td>0.700000</td>\n",
       "      <td>0.629654</td>\n",
       "    </tr>\n",
       "    <tr>\n",
       "      <th>2</th>\n",
       "      <td>0.731903</td>\n",
       "      <td>0.598644</td>\n",
       "      <td>0.683333</td>\n",
       "      <td>0.596795</td>\n",
       "    </tr>\n",
       "    <tr>\n",
       "      <th>3</th>\n",
       "      <td>0.756032</td>\n",
       "      <td>0.557475</td>\n",
       "      <td>0.679167</td>\n",
       "      <td>0.589463</td>\n",
       "    </tr>\n",
       "    <tr>\n",
       "      <th>4</th>\n",
       "      <td>0.752458</td>\n",
       "      <td>0.531611</td>\n",
       "      <td>0.658333</td>\n",
       "      <td>0.586080</td>\n",
       "    </tr>\n",
       "    <tr>\n",
       "      <th>5</th>\n",
       "      <td>0.756926</td>\n",
       "      <td>0.510105</td>\n",
       "      <td>0.675000</td>\n",
       "      <td>0.577032</td>\n",
       "    </tr>\n",
       "    <tr>\n",
       "      <th>6</th>\n",
       "      <td>0.768543</td>\n",
       "      <td>0.498724</td>\n",
       "      <td>0.683333</td>\n",
       "      <td>0.572618</td>\n",
       "    </tr>\n",
       "    <tr>\n",
       "      <th>7</th>\n",
       "      <td>0.778374</td>\n",
       "      <td>0.486798</td>\n",
       "      <td>0.679167</td>\n",
       "      <td>0.585443</td>\n",
       "    </tr>\n",
       "    <tr>\n",
       "      <th>8</th>\n",
       "      <td>0.776586</td>\n",
       "      <td>0.487083</td>\n",
       "      <td>0.683333</td>\n",
       "      <td>0.578271</td>\n",
       "    </tr>\n",
       "    <tr>\n",
       "      <th>9</th>\n",
       "      <td>0.780161</td>\n",
       "      <td>0.475457</td>\n",
       "      <td>0.687500</td>\n",
       "      <td>0.582896</td>\n",
       "    </tr>\n",
       "  </tbody>\n",
       "</table>\n",
       "</div>"
      ],
      "text/plain": [
       "   accuracy      loss  val_accuracy  val_loss\n",
       "0  0.525469  0.686611      0.570833  0.671053\n",
       "1  0.573727  0.653536      0.700000  0.629654\n",
       "2  0.731903  0.598644      0.683333  0.596795\n",
       "3  0.756032  0.557475      0.679167  0.589463\n",
       "4  0.752458  0.531611      0.658333  0.586080\n",
       "5  0.756926  0.510105      0.675000  0.577032\n",
       "6  0.768543  0.498724      0.683333  0.572618\n",
       "7  0.778374  0.486798      0.679167  0.585443\n",
       "8  0.776586  0.487083      0.683333  0.578271\n",
       "9  0.780161  0.475457      0.687500  0.582896"
      ]
     },
     "execution_count": 33,
     "metadata": {},
     "output_type": "execute_result"
    }
   ],
   "source": [
    "model_frame"
   ]
  },
  {
   "cell_type": "markdown",
   "id": "aaad1470-90f0-4cd5-8509-c0452c612826",
   "metadata": {},
   "source": [
    "# Q.18"
   ]
  },
  {
   "cell_type": "code",
   "execution_count": 36,
   "id": "f7044de0-255a-4664-82af-2309fa443823",
   "metadata": {},
   "outputs": [
    {
     "data": {
      "image/png": "[encoded data removed]",
      "text/plain": [
       "<Figure size 1200x500 with 2 Axes>"
      ]
     },
     "metadata": {},
     "output_type": "display_data"
    }
   ],
   "source": [
    "plt.figure(figsize=(12,5))\n",
    "plt.subplot(1,2,1)\n",
    "plt.plot(history.history['loss'],label = 'loss')\n",
    "plt.plot(history.history['val_loss'],label='val_loss')\n",
    "plt.title('loss')\n",
    "plt.xlabel('training loss')\n",
    "plt.ylabel('epochs')\n",
    "plt.legend()\n",
    "\n",
    "plt.subplot(1,2,2)\n",
    "plt.plot(history.history['accuracy'],label = 'accurcy')\n",
    "plt.plot(history.history['val_accuracy'],label='val_accuracy')\n",
    "plt.title('model accuracy')\n",
    "plt.xlabel('training accuracy')\n",
    "plt.ylabel('epochs')\n",
    "plt.legend()\n",
    "plt.tight_layout()\n",
    "plt.show()"
   ]
  },
  {
   "cell_type": "markdown",
   "id": "c3374342-9ac1-4d73-ac1c-77cc69fb91c8",
   "metadata": {},
   "source": [
    "# Q.19"
   ]
  },
  {
   "cell_type": "code",
   "execution_count": 39,
   "id": "1ec409e8-d67d-47dd-9318-49c97cffa97d",
   "metadata": {},
   "outputs": [
    {
     "name": "stdout",
     "output_type": "stream",
     "text": [
      "\u001b[1m8/8\u001b[0m \u001b[32m━━━━━━━━━━━━━━━━━━━━\u001b[0m\u001b[37m\u001b[0m \u001b[1m0s\u001b[0m 2ms/step - accuracy: 0.7242 - loss: 0.5249 \n"
     ]
    }
   ],
   "source": [
    "test_loss,test_accuracy = model.evaluate(x_test_scaled,y_test)"
   ]
  },
  {
   "cell_type": "code",
   "execution_count": 40,
   "id": "c12c8f65-be98-4744-8c69-539ea8e58ddd",
   "metadata": {},
   "outputs": [
    {
     "ename": "SyntaxError",
     "evalue": "f-string: invalid syntax. Perhaps you forgot a comma? (1175491419.py, line 2)",
     "output_type": "error",
     "traceback": [
      "\u001b[0;36m  Cell \u001b[0;32mIn[40], line 2\u001b[0;36m\u001b[0m\n\u001b[0;31m    print(f'test accuracy {test accuracy}')\u001b[0m\n\u001b[0m     ^\u001b[0m\n\u001b[0;31mSyntaxError\u001b[0m\u001b[0;31m:\u001b[0m f-string: invalid syntax. Perhaps you forgot a comma?\n"
     ]
    }
   ],
   "source": [
    "print(f'test loss {test_loss}')\n",
    "print(f'test accuracy {test accuracy}')"
   ]
  },
  {
   "cell_type": "code",
   "execution_count": null,
   "id": "b25d3a9e-30c9-4f48-81ab-6c378441981b",
   "metadata": {},
   "outputs": [],
   "source": []
  }
 ],
 "metadata": {
  "kernelspec": {
   "display_name": "Python 3 (ipykernel)",
   "language": "python",
   "name": "python3"
  },
  "language_info": {
   "codemirror_mode": {
    "name": "ipython",
    "version": 3
   },
   "file_extension": ".py",
   "mimetype": "text/x-python",
   "name": "python",
   "nbconvert_exporter": "python",
   "pygments_lexer": "ipython3",
   "version": "3.10.8"
  }
 },
 "nbformat": 4,
 "nbformat_minor": 5
}
